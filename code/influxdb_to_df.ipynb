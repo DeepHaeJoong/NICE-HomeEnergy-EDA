{
 "cells": [
  {
   "cell_type": "code",
   "execution_count": 1,
   "id": "ca0cfef9",
   "metadata": {
    "ExecuteTime": {
     "end_time": "2022-07-12T04:44:41.232310Z",
     "start_time": "2022-07-12T04:44:39.079206Z"
    }
   },
   "outputs": [],
   "source": [
    "# db\n",
    "from influxdb import InfluxDBClient\n",
    "from influxdb import DataFrameClient\n",
    "import random\n",
    "import os\n",
    "\n",
    "import pandas as pd\n",
    "from pandas.tseries.offsets import MonthEnd, MonthBegin\n",
    "from datetime import timedelta\n",
    "import datetime as dt\n",
    "\n",
    "import numpy as np\n",
    "\n",
    "# 한국의 공휴일\n",
    "from workalendar.asia import SouthKorea\n",
    "\n",
    "# 시각화\n",
    "import matplotlib.pyplot as plt\n",
    "from matplotlib import font_manager, rc\n",
    "import seaborn as sns\n",
    "\n",
    "import warnings\n",
    "warnings.filterwarnings(\"error\")\n",
    "\n",
    "#for window\n",
    "font_name = font_manager.FontProperties(fname=\"c:/Windows/Fonts/malgun.ttf\").get_name()\n",
    "rc('font', family=font_name)\n",
    "# for ubuntu\n",
    "#plt.rcParams[\"font.family\"] = 'NanumBarunGothic'\n",
    "\n",
    "#plt.rcParams[\"font.family\"] = 'NanumGothic'\n",
    "plt.rcParams['axes.unicode_minus'] = False"
   ]
  },
  {
   "cell_type": "markdown",
   "id": "0f172265",
   "metadata": {},
   "source": [
    "## load data \n",
    "---\n",
    "\n",
    "### ETRI server 접속 정보 및 client 연결\n",
    "\n",
    "- [Device Schema & Ditto API](https://www.notion.so/Device-Schema-Ditto-API-f1827ad6dfac4cf0b856e7dfcaa6aff1#8d22c000136045f7bd57858b9e8c376a)"
   ]
  },
  {
   "cell_type": "code",
   "execution_count": 81,
   "id": "9dfc8ffd",
   "metadata": {
    "ExecuteTime": {
     "end_time": "2022-07-12T07:57:01.351331Z",
     "start_time": "2022-07-12T07:57:01.332332Z"
    }
   },
   "outputs": [
    {
     "name": "stderr",
     "output_type": "stream",
     "text": [
      "Exception ignored in: <socket.socket fd=3504, family=AddressFamily.AF_INET, type=SocketKind.SOCK_STREAM, proto=0, laddr=('49.174.104.242', 8534), raddr=('182.252.135.208', 8086)>\n",
      "ResourceWarning: unclosed <socket.socket fd=3504, family=AddressFamily.AF_INET, type=SocketKind.SOCK_STREAM, proto=0, laddr=('49.174.104.242', 8534), raddr=('182.252.135.208', 8086)>\n"
     ]
    }
   ],
   "source": [
    "# InfluxDB 접속정보\n",
    "host = '182.252.135.208' #\n",
    "port = 8086\n",
    "user = 'root'\n",
    "password = 'root'\n",
    "dbname = 'carpediem'\n",
    "\n",
    "# DataFrameClient : pd.DataFrame을 출력하기 위한 연결 메서드\n",
    "client = DataFrameClient(host, port, user, password, dbname)\n",
    "\n",
    "# 동, 호수, CCM 설정(가전기기 powermeter) 및 기간 (1일 단위 권장)\n",
    "\n",
    "'''\n",
    "sensor_type\n",
    "- CCM - 가전기기\n",
    "- ACM - 에어컨 데이터 수집 (현재온도, 설정온도)\n",
    "- PMM - 전력미터 (에어컨, 전등)\n",
    "- BCM - 보일러조절기\n",
    "- DSM - 도어센서\n",
    "- USM - 통합센서 : 재실상태, 조도, 온도, 습도\n",
    "- AQM - 골기질 측정기 : 온도, 습도, co2, pm25(미세먼지), pm10(초미세먼지), tvoc(ppb), 조도\n",
    "- SDM - 디밍제어기\n",
    "- PLC - 가정부하 (power, 15분 단위 누적 전력값, kWh)\n",
    "'''\n",
    "\n",
    "dong = '101'\n",
    "ho = '301'\n",
    "\n",
    "#sensor_types = 'CCM'\n",
    "sensor_types = '/CCM|PMM|PLC|DSM|USM/'\n",
    "start_time = '2021-07-01'\n",
    "end_time = '2022-06-30'\n",
    "\n",
    "def import_data(dong, ho, start_time, end_time):\n",
    "    '''\n",
    "    start_time : 시작일\n",
    "    end_time : 종료일\n",
    "    '''\n",
    "    month_start_day_list = [\n",
    "        str(i) for i in pd.date_range(start_time, end_time, freq=\"MS\")\n",
    "    ]\n",
    "    month_endtime = str(pd.to_datetime(start_time) +\n",
    "                        MonthEnd())[:10] + ' 23:59:59'\n",
    "    print(start_time, \"00:00:00 ~\", month_endtime, \"loading...\")\n",
    "\n",
    "    # Data of the first month\n",
    "    #query = \"select * from shindo where dong='\" + dong + \"' and ho='\" + ho + \"' and time >='\" + start_time + \"' and time<='\" + month_endtime + \"' tz('Asia/Seoul')\"\n",
    "    query = \"select * from shindo where dong='\" + dong + \"' and ho='\" + ho + \"' and type =~ \" + sensor_types + \" and time >='\" + start_time + \"' and time<='\" + month_endtime + \"' tz('Asia/Seoul')\"\n",
    "    data = client.query(query)\n",
    "    df = data['shindo']\n",
    "\n",
    "    print(start_time, \"00:00:00 ~\", month_endtime, \"finished\")\n",
    "\n",
    "    # Data of the second month or more\n",
    "    for temp_starttime in month_start_day_list[1:]:\n",
    "        temp_endtime = str(pd.to_datetime(temp_starttime) +\n",
    "                           MonthEnd())[:10] + ' 23:59:59'\n",
    "        #temp_query = \"select * from shindo where dong='\" + dong + \"' and ho='\" + ho + \"' and time >='\" + temp_starttime + \"' and time<='\" + temp_endtime + \"' tz('Asia/Seoul')\"\n",
    "        temp_query = \"select * from shindo where dong='\" + dong + \"' and ho='\" + ho + \"' and type =~ \" + sensor_types + \" and time >='\" + temp_starttime + \"' and time<='\" + temp_endtime + \"' tz('Asia/Seoul')\"\n",
    "        \n",
    "        print(temp_starttime, \"~\", temp_endtime, \"loading...\")\n",
    "\n",
    "        # query 요청\n",
    "        temp_data = client.query(temp_query)\n",
    "\n",
    "        # pd.DataFrame으로 변환\n",
    "        temp_df = temp_data['shindo']\n",
    "\n",
    "        print(temp_starttime, \"~\", temp_endtime, \"finished\")\n",
    "        df = pd.concat([df, temp_df])\n",
    "\n",
    "    # index를 KST로 변경\n",
    "    df.index = df.index + timedelta(hours=9)\n",
    "    \n",
    "    # convert datetime64[ns, UTC] to datetime\n",
    "    df.index = pd.to_datetime(df.index).tz_localize(None)\n",
    "    \n",
    "    return df"
   ]
  },
  {
   "cell_type": "code",
   "execution_count": 82,
   "id": "5f5ac201",
   "metadata": {
    "ExecuteTime": {
     "end_time": "2022-07-12T08:00:11.817666Z",
     "start_time": "2022-07-12T07:57:01.996468Z"
    }
   },
   "outputs": [
    {
     "name": "stdout",
     "output_type": "stream",
     "text": [
      "2021-07-01 00:00:00 ~ 2021-07-31 23:59:59 loading...\n",
      "2021-07-01 00:00:00 ~ 2021-07-31 23:59:59 finished\n",
      "2021-08-01 00:00:00 ~ 2021-08-31 23:59:59 loading...\n",
      "2021-08-01 00:00:00 ~ 2021-08-31 23:59:59 finished\n",
      "2021-09-01 00:00:00 ~ 2021-09-30 23:59:59 loading...\n",
      "2021-09-01 00:00:00 ~ 2021-09-30 23:59:59 finished\n",
      "2021-10-01 00:00:00 ~ 2021-10-31 23:59:59 loading...\n",
      "2021-10-01 00:00:00 ~ 2021-10-31 23:59:59 finished\n",
      "2021-11-01 00:00:00 ~ 2021-11-30 23:59:59 loading...\n",
      "2021-11-01 00:00:00 ~ 2021-11-30 23:59:59 finished\n",
      "2021-12-01 00:00:00 ~ 2021-12-31 23:59:59 loading...\n",
      "2021-12-01 00:00:00 ~ 2021-12-31 23:59:59 finished\n",
      "2022-01-01 00:00:00 ~ 2022-01-31 23:59:59 loading...\n",
      "2022-01-01 00:00:00 ~ 2022-01-31 23:59:59 finished\n",
      "2022-02-01 00:00:00 ~ 2022-02-28 23:59:59 loading...\n",
      "2022-02-01 00:00:00 ~ 2022-02-28 23:59:59 finished\n",
      "2022-03-01 00:00:00 ~ 2022-03-31 23:59:59 loading...\n",
      "2022-03-01 00:00:00 ~ 2022-03-31 23:59:59 finished\n",
      "2022-04-01 00:00:00 ~ 2022-04-30 23:59:59 loading...\n",
      "2022-04-01 00:00:00 ~ 2022-04-30 23:59:59 finished\n",
      "2022-05-01 00:00:00 ~ 2022-05-31 23:59:59 loading...\n",
      "2022-05-01 00:00:00 ~ 2022-05-31 23:59:59 finished\n",
      "2022-06-01 00:00:00 ~ 2022-06-30 23:59:59 loading...\n",
      "2022-06-01 00:00:00 ~ 2022-06-30 23:59:59 finished\n"
     ]
    }
   ],
   "source": [
    "df = import_data(dong, ho, start_time, end_time)"
   ]
  },
  {
   "cell_type": "markdown",
   "id": "6459a9de",
   "metadata": {},
   "source": [
    "### device column 채우기"
   ]
  },
  {
   "cell_type": "code",
   "execution_count": 83,
   "id": "4115566d",
   "metadata": {
    "ExecuteTime": {
     "end_time": "2022-07-12T08:00:13.429666Z",
     "start_time": "2022-07-12T08:00:11.819639Z"
    },
    "scrolled": true
   },
   "outputs": [
    {
     "name": "stdout",
     "output_type": "stream",
     "text": [
      "deviceID list : ['PLC101301', 'USM0005bc66e0', 'CCMce0710', 'CCMce0a06', 'CCMce072e', 'CCMce0979', 'CCMce07cf', 'CCMce06cc', 'CCMce09fe', 'CCMce0a01', 'USM00049af536']\n",
      "--------------------------------------------\n",
      "nickname list : {'PLC101301': None, 'USM0005bc66e0': None, 'CCMce0710': '선풍기', 'CCMce0a06': '선풍기', 'CCMce072e': '선풍기', 'CCMce0979': '에어컨', 'CCMce07cf': '전자레인지', 'CCMce06cc': 'TV', 'CCMce09fe': 'TV', 'CCMce0a01': '선풍기', 'USM00049af536': None}\n",
      "--------------------------------------------\n",
      "room list : {'PLC101301': '현관', 'USM0005bc66e0': '거실', 'CCMce0710': '침실3', 'CCMce0a06': '안방', 'CCMce072e': '거실', 'CCMce0979': '거실', 'CCMce07cf': '주방', 'CCMce06cc': '거실', 'CCMce09fe': '침실3', 'CCMce0a01': '침실2', 'USM00049af536': '안방'}\n"
     ]
    }
   ],
   "source": [
    "# 개별 device ID 확인\n",
    "deviceId_list = df['deviceId'].unique().tolist()\n",
    "print(\"deviceID list : {0}\".format(deviceId_list))\n",
    "print(\"--------------------------------------------\")\n",
    "# 개별 device의 nickname 확인\n",
    "device_temp_id_nick_dict = dict(df[df['deviceId'].isin(deviceId_list)][['deviceId', 'nickname']].values)\n",
    "print(\"nickname list : {0}\".format(device_temp_id_nick_dict))\n",
    "print(\"--------------------------------------------\")\n",
    "\n",
    "# 개별 device의 room 확인\n",
    "device_temp_id_room_dict = dict(df[df['deviceId'].isin(deviceId_list)][['deviceId', 'room']].values)\n",
    "print(\"room list : {0}\".format(device_temp_id_room_dict))"
   ]
  },
  {
   "cell_type": "code",
   "execution_count": 30,
   "id": "5cf09d3b",
   "metadata": {
    "ExecuteTime": {
     "end_time": "2022-07-08T06:25:55.473535Z",
     "start_time": "2022-07-08T06:25:55.459562Z"
    }
   },
   "outputs": [],
   "source": [
    "# df[df['type'] == \"USM\"]#"
   ]
  },
  {
   "cell_type": "code",
   "execution_count": 84,
   "id": "b55bfe28",
   "metadata": {
    "ExecuteTime": {
     "end_time": "2022-07-12T08:00:15.708166Z",
     "start_time": "2022-07-12T08:00:13.431166Z"
    }
   },
   "outputs": [],
   "source": [
    "# 기존 device별 nickname 결측값(None) 채우기\n",
    "for key, value in device_temp_id_nick_dict.items():\n",
    "    df.loc[df['deviceId'] == key, 'nickname'] = value\n",
    "\n",
    "# 기존 device별 room 결측값(None) 채우기\n",
    "for key, value in device_temp_id_room_dict.items():\n",
    "    df.loc[df['deviceId'] == key, 'room'] = value\n",
    "\n",
    "df.loc[df['type'] == \"ACM\", 'nickname'] = \"ACM\" # \n",
    "df.loc[df['type'] == \"PMM\", 'nickname'] = \"PMM\" # \n",
    "df.loc[df['type'] == \"DSM\", 'nickname'] = \"DSM\" # 도어센서\n",
    "df.loc[df['type'] == \"USM\", 'nickname'] = \"USM\" # 재실센서\n",
    "df.loc[df['type'] == \"AQM\", 'nickname'] = \"AQM\" # \n",
    "\n",
    "# 파생변수 생성\n",
    "df['name(room)'] = df['nickname'] + \"(\" + df['room'] + \")\""
   ]
  },
  {
   "cell_type": "code",
   "execution_count": 85,
   "id": "cebd480b",
   "metadata": {
    "ExecuteTime": {
     "end_time": "2022-07-12T08:00:15.878669Z",
     "start_time": "2022-07-12T08:00:15.710137Z"
    },
    "scrolled": false
   },
   "outputs": [
    {
     "data": {
      "image/png": "[encoded data removed]",
      "text/plain": [
       "<Figure size 720x360 with 1 Axes>"
      ]
     },
     "metadata": {
      "needs_background": "light"
     },
     "output_type": "display_data"
    }
   ],
   "source": [
    "# 수집된 raw data 갯수\n",
    "plt.figure(figsize=(10,5))\n",
    "df['name(room)'].value_counts().plot.barh()\n",
    "plt.title(\"Number of collections of \" + dong + \"-\" + ho)\n",
    "plt.grid(True)"
   ]
  },
  {
   "cell_type": "code",
   "execution_count": 86,
   "id": "370ef9cc",
   "metadata": {
    "ExecuteTime": {
     "end_time": "2022-07-12T08:00:16.188666Z",
     "start_time": "2022-07-12T08:00:15.879639Z"
    }
   },
   "outputs": [],
   "source": [
    "resolution = '300S'\n",
    "\n",
    "# type = CCM\n",
    "columns = ['name(room)', 'power']\n",
    "df_device_power =  df[columns]\n",
    "df_device_power = df_device_power.dropna()\n",
    "df_device_power = df_device_power.drop_duplicates()\n",
    "df_device_power = df_device_power.pivot(columns='name(room)', values=['power'])\n",
    "df_device_power = df_device_power['power']\n",
    "df_CCM_power = df_device_power.resample(resolution).max()"
   ]
  },
  {
   "cell_type": "code",
   "execution_count": 87,
   "id": "64195763",
   "metadata": {
    "ExecuteTime": {
     "end_time": "2022-07-12T08:00:16.204165Z",
     "start_time": "2022-07-12T08:00:16.189691Z"
    }
   },
   "outputs": [
    {
     "data": {
      "text/html": [
       "<div>\n",
       "<style scoped>\n",
       "    .dataframe tbody tr th:only-of-type {\n",
       "        vertical-align: middle;\n",
       "    }\n",
       "\n",
       "    .dataframe tbody tr th {\n",
       "        vertical-align: top;\n",
       "    }\n",
       "\n",
       "    .dataframe thead th {\n",
       "        text-align: right;\n",
       "    }\n",
       "</style>\n",
       "<table border=\"1\" class=\"dataframe\">\n",
       "  <thead>\n",
       "    <tr style=\"text-align: right;\">\n",
       "      <th>name(room)</th>\n",
       "      <th>TV(거실)</th>\n",
       "      <th>TV(침실3)</th>\n",
       "      <th>선풍기(거실)</th>\n",
       "      <th>선풍기(안방)</th>\n",
       "      <th>선풍기(침실2)</th>\n",
       "      <th>선풍기(침실3)</th>\n",
       "      <th>에어컨(거실)</th>\n",
       "      <th>전자레인지(주방)</th>\n",
       "    </tr>\n",
       "  </thead>\n",
       "  <tbody>\n",
       "    <tr>\n",
       "      <th>2022-06-15 11:35:00</th>\n",
       "      <td>0.9</td>\n",
       "      <td>0.7</td>\n",
       "      <td>0.5</td>\n",
       "      <td>0.8</td>\n",
       "      <td>0.7</td>\n",
       "      <td>0.9</td>\n",
       "      <td>52.4</td>\n",
       "      <td>0.8</td>\n",
       "    </tr>\n",
       "    <tr>\n",
       "      <th>2022-06-15 11:40:00</th>\n",
       "      <td>NaN</td>\n",
       "      <td>NaN</td>\n",
       "      <td>0.9</td>\n",
       "      <td>0.3</td>\n",
       "      <td>0.1</td>\n",
       "      <td>0.0</td>\n",
       "      <td>2.0</td>\n",
       "      <td>0.7</td>\n",
       "    </tr>\n",
       "    <tr>\n",
       "      <th>2022-06-15 11:45:00</th>\n",
       "      <td>0.2</td>\n",
       "      <td>0.6</td>\n",
       "      <td>NaN</td>\n",
       "      <td>NaN</td>\n",
       "      <td>NaN</td>\n",
       "      <td>NaN</td>\n",
       "      <td>2.3</td>\n",
       "      <td>NaN</td>\n",
       "    </tr>\n",
       "    <tr>\n",
       "      <th>2022-06-15 11:50:00</th>\n",
       "      <td>NaN</td>\n",
       "      <td>NaN</td>\n",
       "      <td>NaN</td>\n",
       "      <td>NaN</td>\n",
       "      <td>0.8</td>\n",
       "      <td>0.8</td>\n",
       "      <td>2.1</td>\n",
       "      <td>NaN</td>\n",
       "    </tr>\n",
       "    <tr>\n",
       "      <th>2022-06-15 11:55:00</th>\n",
       "      <td>1.0</td>\n",
       "      <td>NaN</td>\n",
       "      <td>NaN</td>\n",
       "      <td>NaN</td>\n",
       "      <td>0.9</td>\n",
       "      <td>NaN</td>\n",
       "      <td>NaN</td>\n",
       "      <td>NaN</td>\n",
       "    </tr>\n",
       "  </tbody>\n",
       "</table>\n",
       "</div>"
      ],
      "text/plain": [
       "name(room)           TV(거실)  TV(침실3)  선풍기(거실)  선풍기(안방)  선풍기(침실2)  선풍기(침실3)  \\\n",
       "2022-06-15 11:35:00     0.9      0.7      0.5      0.8       0.7       0.9   \n",
       "2022-06-15 11:40:00     NaN      NaN      0.9      0.3       0.1       0.0   \n",
       "2022-06-15 11:45:00     0.2      0.6      NaN      NaN       NaN       NaN   \n",
       "2022-06-15 11:50:00     NaN      NaN      NaN      NaN       0.8       0.8   \n",
       "2022-06-15 11:55:00     1.0      NaN      NaN      NaN       0.9       NaN   \n",
       "\n",
       "name(room)           에어컨(거실)  전자레인지(주방)  \n",
       "2022-06-15 11:35:00     52.4        0.8  \n",
       "2022-06-15 11:40:00      2.0        0.7  \n",
       "2022-06-15 11:45:00      2.3        NaN  \n",
       "2022-06-15 11:50:00      2.1        NaN  \n",
       "2022-06-15 11:55:00      NaN        NaN  "
      ]
     },
     "execution_count": 87,
     "metadata": {},
     "output_type": "execute_result"
    }
   ],
   "source": [
    "df_CCM_power.head()"
   ]
  },
  {
   "cell_type": "code",
   "execution_count": 71,
   "id": "e6af8b63",
   "metadata": {
    "ExecuteTime": {
     "end_time": "2022-07-08T06:55:49.657436Z",
     "start_time": "2022-07-08T06:55:49.643442Z"
    }
   },
   "outputs": [],
   "source": [
    "ccm_columns = [i for i in df_CCM_power.columns if \"PMM\" not in i]"
   ]
  },
  {
   "cell_type": "code",
   "execution_count": 72,
   "id": "efa4034e",
   "metadata": {
    "ExecuteTime": {
     "end_time": "2022-07-08T06:55:49.982941Z",
     "start_time": "2022-07-08T06:55:49.658912Z"
    },
    "scrolled": false
   },
   "outputs": [
    {
     "data": {
      "text/plain": [
       "<matplotlib.legend.Legend at 0x19472dcef48>"
      ]
     },
     "execution_count": 72,
     "metadata": {},
     "output_type": "execute_result"
    },
    {
     "data": {
      "image/png": "[encoded data removed]",
      "text/plain": [
       "<Figure size 1440x504 with 1 Axes>"
      ]
     },
     "metadata": {
      "needs_background": "light"
     },
     "output_type": "display_data"
    }
   ],
   "source": [
    "start_time = '2021-07-01 06:00:00'\n",
    "end_time = '2021-07-01 23:59:59'\n",
    "plt.figure(figsize=(20, 7))\n",
    "\n",
    "for ccm in ccm_columns:\n",
    "    plt.step(df_CCM_power[ccm].index, df_CCM_power[ccm].values, label=ccm, where='post',  linewidth=3)\n",
    "    \n",
    "plt.ylim(0, 2000)\n",
    "plt.xlim(pd.to_datetime(start_time), pd.to_datetime(end_time))\n",
    "plt.xticks(rotation=45, fontsize=13)\n",
    "plt.yticks(fontsize=15)\n",
    "plt.ylabel(\"Power(W)\", fontsize=17) #rotation=45)\n",
    "plt.grid(color='0.85')\n",
    "\n",
    "plt.legend(loc='upper right', fontsize=10)"
   ]
  },
  {
   "cell_type": "code",
   "execution_count": 73,
   "id": "f3061749",
   "metadata": {
    "ExecuteTime": {
     "end_time": "2022-07-08T06:55:50.323566Z",
     "start_time": "2022-07-08T06:55:49.984414Z"
    },
    "scrolled": false
   },
   "outputs": [
    {
     "data": {
      "text/plain": [
       "<matplotlib.legend.Legend at 0x19472ac7688>"
      ]
     },
     "execution_count": 73,
     "metadata": {},
     "output_type": "execute_result"
    },
    {
     "data": {
      "image/png": "[encoded data removed]",
      "text/plain": [
       "<Figure size 1440x504 with 1 Axes>"
      ]
     },
     "metadata": {
      "needs_background": "light"
     },
     "output_type": "display_data"
    }
   ],
   "source": [
    "start_time = '2022-04-01 06:00:00'\n",
    "end_time = '2022-04-09 23:59:59'\n",
    "plt.figure(figsize=(20, 7))\n",
    "\n",
    "for ccm in ccm_columns:\n",
    "    plt.step(df_CCM_power[ccm].index, df_CCM_power[ccm].values, label=ccm, where='post',  linewidth=3)\n",
    "    \n",
    "plt.ylim(0, 2000)\n",
    "plt.xlim(pd.to_datetime(start_time), pd.to_datetime(end_time))\n",
    "plt.xticks(rotation=45, fontsize=13)\n",
    "plt.yticks(fontsize=15)\n",
    "plt.ylabel(\"Power(W)\", fontsize=17) # rotation=45)\n",
    "plt.grid(color='0.85')\n",
    "\n",
    "plt.legend(loc='upper right', fontsize=10)"
   ]
  },
  {
   "cell_type": "markdown",
   "id": "60034d1c",
   "metadata": {},
   "source": [
    "### Preprocessing \n",
    "\n",
    "- CCM : AC 누적 사용량 및 순시전력\n",
    "- USM : 재실(거실, 침실1, 침실2, 침실3) -> 공간 어디든 존재한다면 재실 O\n",
    "- PLC : 가정 부하\n",
    "- DSM : 도어 센서 (창문)\n",
    "- AQM : 온도, 습도, CO2 (temperature/ humidity / co2)\n",
    "- time resolution : 5 min"
   ]
  },
  {
   "cell_type": "markdown",
   "id": "09b4aa62",
   "metadata": {},
   "source": [
    "#### CCM : 순시전력 (실시간 사용량 정의)"
   ]
  },
  {
   "cell_type": "code",
   "execution_count": 88,
   "id": "3226ed47",
   "metadata": {
    "ExecuteTime": {
     "end_time": "2022-07-12T08:00:16.653666Z",
     "start_time": "2022-07-12T08:00:16.206139Z"
    }
   },
   "outputs": [],
   "source": [
    "resolution = '300S'\n",
    "\n",
    "# type = CCM\n",
    "columns = ['name(room)', 'power']\n",
    "df_device_power =  df[columns]\n",
    "df_device_power = df_device_power.dropna()\n",
    "#df_device_power = df_device_power.drop_duplicates()\n",
    "df_device_power = df_device_power.pivot(columns='name(room)', values=['power'])\n",
    "df_device_power = df_device_power['power']\n",
    "df_CCM_power = df_device_power.resample(resolution).max()"
   ]
  },
  {
   "cell_type": "code",
   "execution_count": 94,
   "id": "a433c67a",
   "metadata": {
    "ExecuteTime": {
     "end_time": "2022-07-12T08:01:17.340447Z",
     "start_time": "2022-07-12T08:01:17.314312Z"
    }
   },
   "outputs": [
    {
     "data": {
      "text/html": [
       "<div>\n",
       "<style scoped>\n",
       "    .dataframe tbody tr th:only-of-type {\n",
       "        vertical-align: middle;\n",
       "    }\n",
       "\n",
       "    .dataframe tbody tr th {\n",
       "        vertical-align: top;\n",
       "    }\n",
       "\n",
       "    .dataframe thead th {\n",
       "        text-align: right;\n",
       "    }\n",
       "</style>\n",
       "<table border=\"1\" class=\"dataframe\">\n",
       "  <thead>\n",
       "    <tr style=\"text-align: right;\">\n",
       "      <th>name(room)</th>\n",
       "      <th>TV(거실)</th>\n",
       "      <th>TV(침실3)</th>\n",
       "      <th>선풍기(거실)</th>\n",
       "      <th>선풍기(안방)</th>\n",
       "      <th>선풍기(침실2)</th>\n",
       "      <th>선풍기(침실3)</th>\n",
       "      <th>에어컨(거실)</th>\n",
       "      <th>전자레인지(주방)</th>\n",
       "    </tr>\n",
       "  </thead>\n",
       "  <tbody>\n",
       "    <tr>\n",
       "      <th>2022-06-15 11:35:00</th>\n",
       "      <td>0.9</td>\n",
       "      <td>0.7</td>\n",
       "      <td>0.5</td>\n",
       "      <td>0.8</td>\n",
       "      <td>0.7</td>\n",
       "      <td>0.9</td>\n",
       "      <td>52.4</td>\n",
       "      <td>0.8</td>\n",
       "    </tr>\n",
       "    <tr>\n",
       "      <th>2022-06-15 11:40:00</th>\n",
       "      <td>0.9</td>\n",
       "      <td>0.5</td>\n",
       "      <td>0.9</td>\n",
       "      <td>0.7</td>\n",
       "      <td>0.7</td>\n",
       "      <td>0.6</td>\n",
       "      <td>2.0</td>\n",
       "      <td>0.7</td>\n",
       "    </tr>\n",
       "    <tr>\n",
       "      <th>2022-06-15 11:45:00</th>\n",
       "      <td>0.9</td>\n",
       "      <td>0.6</td>\n",
       "      <td>0.9</td>\n",
       "      <td>0.8</td>\n",
       "      <td>0.7</td>\n",
       "      <td>0.6</td>\n",
       "      <td>2.3</td>\n",
       "      <td>0.6</td>\n",
       "    </tr>\n",
       "    <tr>\n",
       "      <th>2022-06-15 11:50:00</th>\n",
       "      <td>0.8</td>\n",
       "      <td>0.5</td>\n",
       "      <td>0.7</td>\n",
       "      <td>0.7</td>\n",
       "      <td>0.8</td>\n",
       "      <td>0.8</td>\n",
       "      <td>2.1</td>\n",
       "      <td>0.7</td>\n",
       "    </tr>\n",
       "    <tr>\n",
       "      <th>2022-06-15 11:55:00</th>\n",
       "      <td>1.0</td>\n",
       "      <td>0.7</td>\n",
       "      <td>0.7</td>\n",
       "      <td>0.7</td>\n",
       "      <td>0.9</td>\n",
       "      <td>0.8</td>\n",
       "      <td>2.3</td>\n",
       "      <td>0.8</td>\n",
       "    </tr>\n",
       "    <tr>\n",
       "      <th>...</th>\n",
       "      <td>...</td>\n",
       "      <td>...</td>\n",
       "      <td>...</td>\n",
       "      <td>...</td>\n",
       "      <td>...</td>\n",
       "      <td>...</td>\n",
       "      <td>...</td>\n",
       "      <td>...</td>\n",
       "    </tr>\n",
       "    <tr>\n",
       "      <th>2022-06-30 23:35:00</th>\n",
       "      <td>121.4</td>\n",
       "      <td>NaN</td>\n",
       "      <td>NaN</td>\n",
       "      <td>NaN</td>\n",
       "      <td>0.6</td>\n",
       "      <td>28.5</td>\n",
       "      <td>2.1</td>\n",
       "      <td>NaN</td>\n",
       "    </tr>\n",
       "    <tr>\n",
       "      <th>2022-06-30 23:40:00</th>\n",
       "      <td>120.1</td>\n",
       "      <td>NaN</td>\n",
       "      <td>NaN</td>\n",
       "      <td>NaN</td>\n",
       "      <td>0.7</td>\n",
       "      <td>30.4</td>\n",
       "      <td>2.0</td>\n",
       "      <td>NaN</td>\n",
       "    </tr>\n",
       "    <tr>\n",
       "      <th>2022-06-30 23:45:00</th>\n",
       "      <td>120.4</td>\n",
       "      <td>NaN</td>\n",
       "      <td>NaN</td>\n",
       "      <td>NaN</td>\n",
       "      <td>0.7</td>\n",
       "      <td>29.2</td>\n",
       "      <td>2.2</td>\n",
       "      <td>NaN</td>\n",
       "    </tr>\n",
       "    <tr>\n",
       "      <th>2022-06-30 23:50:00</th>\n",
       "      <td>120.4</td>\n",
       "      <td>NaN</td>\n",
       "      <td>NaN</td>\n",
       "      <td>NaN</td>\n",
       "      <td>0.7</td>\n",
       "      <td>29.1</td>\n",
       "      <td>2.1</td>\n",
       "      <td>NaN</td>\n",
       "    </tr>\n",
       "    <tr>\n",
       "      <th>2022-06-30 23:55:00</th>\n",
       "      <td>0.8</td>\n",
       "      <td>NaN</td>\n",
       "      <td>NaN</td>\n",
       "      <td>NaN</td>\n",
       "      <td>0.6</td>\n",
       "      <td>29.0</td>\n",
       "      <td>2.1</td>\n",
       "      <td>NaN</td>\n",
       "    </tr>\n",
       "  </tbody>\n",
       "</table>\n",
       "<p>4469 rows × 8 columns</p>\n",
       "</div>"
      ],
      "text/plain": [
       "name(room)           TV(거실)  TV(침실3)  선풍기(거실)  선풍기(안방)  선풍기(침실2)  선풍기(침실3)  \\\n",
       "2022-06-15 11:35:00     0.9      0.7      0.5      0.8       0.7       0.9   \n",
       "2022-06-15 11:40:00     0.9      0.5      0.9      0.7       0.7       0.6   \n",
       "2022-06-15 11:45:00     0.9      0.6      0.9      0.8       0.7       0.6   \n",
       "2022-06-15 11:50:00     0.8      0.5      0.7      0.7       0.8       0.8   \n",
       "2022-06-15 11:55:00     1.0      0.7      0.7      0.7       0.9       0.8   \n",
       "...                     ...      ...      ...      ...       ...       ...   \n",
       "2022-06-30 23:35:00   121.4      NaN      NaN      NaN       0.6      28.5   \n",
       "2022-06-30 23:40:00   120.1      NaN      NaN      NaN       0.7      30.4   \n",
       "2022-06-30 23:45:00   120.4      NaN      NaN      NaN       0.7      29.2   \n",
       "2022-06-30 23:50:00   120.4      NaN      NaN      NaN       0.7      29.1   \n",
       "2022-06-30 23:55:00     0.8      NaN      NaN      NaN       0.6      29.0   \n",
       "\n",
       "name(room)           에어컨(거실)  전자레인지(주방)  \n",
       "2022-06-15 11:35:00     52.4        0.8  \n",
       "2022-06-15 11:40:00      2.0        0.7  \n",
       "2022-06-15 11:45:00      2.3        0.6  \n",
       "2022-06-15 11:50:00      2.1        0.7  \n",
       "2022-06-15 11:55:00      2.3        0.8  \n",
       "...                      ...        ...  \n",
       "2022-06-30 23:35:00      2.1        NaN  \n",
       "2022-06-30 23:40:00      2.0        NaN  \n",
       "2022-06-30 23:45:00      2.2        NaN  \n",
       "2022-06-30 23:50:00      2.1        NaN  \n",
       "2022-06-30 23:55:00      2.1        NaN  \n",
       "\n",
       "[4469 rows x 8 columns]"
      ]
     },
     "execution_count": 94,
     "metadata": {},
     "output_type": "execute_result"
    }
   ],
   "source": [
    "df_CCM_power"
   ]
  },
  {
   "cell_type": "markdown",
   "id": "37b65b08",
   "metadata": {},
   "source": [
    "#### USM : 통합센서 : 재실상태, 온도, 습도, 조도(제외)\n",
    "\n",
    "- `2021-07-29` ~"
   ]
  },
  {
   "cell_type": "code",
   "execution_count": 89,
   "id": "03dd5d53",
   "metadata": {
    "ExecuteTime": {
     "end_time": "2022-07-12T08:00:16.669170Z",
     "start_time": "2022-07-12T08:00:16.654670Z"
    }
   },
   "outputs": [
    {
     "data": {
      "text/plain": [
       "Index(['deviceId', 'dong', 'ho', 'location', 'power', 'room', 'ts', 'type',\n",
       "       'current', 'humidity', 'illuminance', 'nickname', 'power-last-day',\n",
       "       'power-last-month', 'power-this-day', 'power-this-month', 'powerFactor',\n",
       "       'presence', 'switch', 'temperature', 'voltage', 'name(room)'],\n",
       "      dtype='object')"
      ]
     },
     "execution_count": 89,
     "metadata": {},
     "output_type": "execute_result"
    }
   ],
   "source": [
    "df.columns"
   ]
  },
  {
   "cell_type": "code",
   "execution_count": 90,
   "id": "13e8c52e",
   "metadata": {
    "ExecuteTime": {
     "end_time": "2022-07-12T08:00:17.102702Z",
     "start_time": "2022-07-12T08:00:16.670639Z"
    }
   },
   "outputs": [],
   "source": [
    "#df_usm = df[presence_colums]\n",
    "usm_columns = ['presence', 'temperature', 'humidity', 'name(room)']\n",
    "df_usm = df[df['type'] == \"USM\"][usm_columns].resample(resolution).max().dropna(subset=['name(room)'])\n",
    "\n",
    "# as-is : 1, 3 -> to-be : 0 (부재)\n",
    "# as-is : 2, 4 -> to-be : 1 (재실)\n",
    "df_usm.loc[((df_usm['presence'] == 1) | (df_usm['presence'] == 3)), 'presence'] = 0\n",
    "df_usm.loc[((df_usm['presence'] == 2) | (df_usm['presence'] == 4)), 'presence'] = 1\n",
    "\n",
    "# 센서 및 위치를 위한 pivot\n",
    "df_usm = df_usm.pivot(columns='name(room)', values=['presence', 'humidity', 'temperature'])\n",
    "df_usm.columns = [\"_\".join(a) for a in df_usm.columns.to_flat_index()]"
   ]
  },
  {
   "cell_type": "code",
   "execution_count": 95,
   "id": "66b04474",
   "metadata": {
    "ExecuteTime": {
     "end_time": "2022-07-12T08:01:40.911626Z",
     "start_time": "2022-07-12T08:01:40.895108Z"
    }
   },
   "outputs": [
    {
     "data": {
      "text/html": [
       "<div>\n",
       "<style scoped>\n",
       "    .dataframe tbody tr th:only-of-type {\n",
       "        vertical-align: middle;\n",
       "    }\n",
       "\n",
       "    .dataframe tbody tr th {\n",
       "        vertical-align: top;\n",
       "    }\n",
       "\n",
       "    .dataframe thead th {\n",
       "        text-align: right;\n",
       "    }\n",
       "</style>\n",
       "<table border=\"1\" class=\"dataframe\">\n",
       "  <thead>\n",
       "    <tr style=\"text-align: right;\">\n",
       "      <th></th>\n",
       "      <th>presence_USM(거실)</th>\n",
       "      <th>presence_USM(안방)</th>\n",
       "      <th>humidity_USM(거실)</th>\n",
       "      <th>humidity_USM(안방)</th>\n",
       "      <th>temperature_USM(거실)</th>\n",
       "      <th>temperature_USM(안방)</th>\n",
       "    </tr>\n",
       "  </thead>\n",
       "  <tbody>\n",
       "    <tr>\n",
       "      <th>2022-06-15 11:30:00</th>\n",
       "      <td>1.0</td>\n",
       "      <td>NaN</td>\n",
       "      <td>47.0</td>\n",
       "      <td>NaN</td>\n",
       "      <td>28.5</td>\n",
       "      <td>NaN</td>\n",
       "    </tr>\n",
       "    <tr>\n",
       "      <th>2022-06-15 11:35:00</th>\n",
       "      <td>NaN</td>\n",
       "      <td>1.0</td>\n",
       "      <td>NaN</td>\n",
       "      <td>49.0</td>\n",
       "      <td>NaN</td>\n",
       "      <td>29.1</td>\n",
       "    </tr>\n",
       "    <tr>\n",
       "      <th>2022-06-15 11:40:00</th>\n",
       "      <td>NaN</td>\n",
       "      <td>1.0</td>\n",
       "      <td>NaN</td>\n",
       "      <td>49.0</td>\n",
       "      <td>NaN</td>\n",
       "      <td>28.9</td>\n",
       "    </tr>\n",
       "    <tr>\n",
       "      <th>2022-06-15 11:45:00</th>\n",
       "      <td>1.0</td>\n",
       "      <td>NaN</td>\n",
       "      <td>47.0</td>\n",
       "      <td>NaN</td>\n",
       "      <td>28.4</td>\n",
       "      <td>NaN</td>\n",
       "    </tr>\n",
       "    <tr>\n",
       "      <th>2022-06-15 11:50:00</th>\n",
       "      <td>0.0</td>\n",
       "      <td>NaN</td>\n",
       "      <td>47.0</td>\n",
       "      <td>NaN</td>\n",
       "      <td>28.4</td>\n",
       "      <td>NaN</td>\n",
       "    </tr>\n",
       "    <tr>\n",
       "      <th>...</th>\n",
       "      <td>...</td>\n",
       "      <td>...</td>\n",
       "      <td>...</td>\n",
       "      <td>...</td>\n",
       "      <td>...</td>\n",
       "      <td>...</td>\n",
       "    </tr>\n",
       "    <tr>\n",
       "      <th>2022-06-30 23:35:00</th>\n",
       "      <td>NaN</td>\n",
       "      <td>0.0</td>\n",
       "      <td>NaN</td>\n",
       "      <td>72.0</td>\n",
       "      <td>NaN</td>\n",
       "      <td>29.1</td>\n",
       "    </tr>\n",
       "    <tr>\n",
       "      <th>2022-06-30 23:40:00</th>\n",
       "      <td>NaN</td>\n",
       "      <td>0.0</td>\n",
       "      <td>NaN</td>\n",
       "      <td>72.0</td>\n",
       "      <td>NaN</td>\n",
       "      <td>29.1</td>\n",
       "    </tr>\n",
       "    <tr>\n",
       "      <th>2022-06-30 23:45:00</th>\n",
       "      <td>NaN</td>\n",
       "      <td>0.0</td>\n",
       "      <td>NaN</td>\n",
       "      <td>72.0</td>\n",
       "      <td>NaN</td>\n",
       "      <td>29.1</td>\n",
       "    </tr>\n",
       "    <tr>\n",
       "      <th>2022-06-30 23:50:00</th>\n",
       "      <td>NaN</td>\n",
       "      <td>0.0</td>\n",
       "      <td>NaN</td>\n",
       "      <td>72.0</td>\n",
       "      <td>NaN</td>\n",
       "      <td>29.1</td>\n",
       "    </tr>\n",
       "    <tr>\n",
       "      <th>2022-06-30 23:55:00</th>\n",
       "      <td>NaN</td>\n",
       "      <td>0.0</td>\n",
       "      <td>NaN</td>\n",
       "      <td>72.0</td>\n",
       "      <td>NaN</td>\n",
       "      <td>29.1</td>\n",
       "    </tr>\n",
       "  </tbody>\n",
       "</table>\n",
       "<p>3691 rows × 6 columns</p>\n",
       "</div>"
      ],
      "text/plain": [
       "                     presence_USM(거실)  presence_USM(안방)  humidity_USM(거실)  \\\n",
       "2022-06-15 11:30:00               1.0               NaN              47.0   \n",
       "2022-06-15 11:35:00               NaN               1.0               NaN   \n",
       "2022-06-15 11:40:00               NaN               1.0               NaN   \n",
       "2022-06-15 11:45:00               1.0               NaN              47.0   \n",
       "2022-06-15 11:50:00               0.0               NaN              47.0   \n",
       "...                               ...               ...               ...   \n",
       "2022-06-30 23:35:00               NaN               0.0               NaN   \n",
       "2022-06-30 23:40:00               NaN               0.0               NaN   \n",
       "2022-06-30 23:45:00               NaN               0.0               NaN   \n",
       "2022-06-30 23:50:00               NaN               0.0               NaN   \n",
       "2022-06-30 23:55:00               NaN               0.0               NaN   \n",
       "\n",
       "                     humidity_USM(안방)  temperature_USM(거실)  \\\n",
       "2022-06-15 11:30:00               NaN                 28.5   \n",
       "2022-06-15 11:35:00              49.0                  NaN   \n",
       "2022-06-15 11:40:00              49.0                  NaN   \n",
       "2022-06-15 11:45:00               NaN                 28.4   \n",
       "2022-06-15 11:50:00               NaN                 28.4   \n",
       "...                               ...                  ...   \n",
       "2022-06-30 23:35:00              72.0                  NaN   \n",
       "2022-06-30 23:40:00              72.0                  NaN   \n",
       "2022-06-30 23:45:00              72.0                  NaN   \n",
       "2022-06-30 23:50:00              72.0                  NaN   \n",
       "2022-06-30 23:55:00              72.0                  NaN   \n",
       "\n",
       "                     temperature_USM(안방)  \n",
       "2022-06-15 11:30:00                  NaN  \n",
       "2022-06-15 11:35:00                 29.1  \n",
       "2022-06-15 11:40:00                 28.9  \n",
       "2022-06-15 11:45:00                  NaN  \n",
       "2022-06-15 11:50:00                  NaN  \n",
       "...                                  ...  \n",
       "2022-06-30 23:35:00                 29.1  \n",
       "2022-06-30 23:40:00                 29.1  \n",
       "2022-06-30 23:45:00                 29.1  \n",
       "2022-06-30 23:50:00                 29.1  \n",
       "2022-06-30 23:55:00                 29.1  \n",
       "\n",
       "[3691 rows x 6 columns]"
      ]
     },
     "execution_count": 95,
     "metadata": {},
     "output_type": "execute_result"
    }
   ],
   "source": [
    "df_usm"
   ]
  },
  {
   "cell_type": "markdown",
   "id": "197df5b1",
   "metadata": {
    "ExecuteTime": {
     "end_time": "2022-07-08T07:55:30.668221Z",
     "start_time": "2022-07-08T07:55:30.597724Z"
    }
   },
   "source": [
    "####  AQM : 없는 세대도 존재함"
   ]
  },
  {
   "cell_type": "code",
   "execution_count": 91,
   "id": "1c148c26",
   "metadata": {
    "ExecuteTime": {
     "end_time": "2022-07-12T08:00:17.180230Z",
     "start_time": "2022-07-12T08:00:17.105203Z"
    }
   },
   "outputs": [
    {
     "data": {
      "text/html": [
       "<div>\n",
       "<style scoped>\n",
       "    .dataframe tbody tr th:only-of-type {\n",
       "        vertical-align: middle;\n",
       "    }\n",
       "\n",
       "    .dataframe tbody tr th {\n",
       "        vertical-align: top;\n",
       "    }\n",
       "\n",
       "    .dataframe thead th {\n",
       "        text-align: right;\n",
       "    }\n",
       "</style>\n",
       "<table border=\"1\" class=\"dataframe\">\n",
       "  <thead>\n",
       "    <tr style=\"text-align: right;\">\n",
       "      <th></th>\n",
       "      <th>deviceId</th>\n",
       "      <th>dong</th>\n",
       "      <th>ho</th>\n",
       "      <th>location</th>\n",
       "      <th>power</th>\n",
       "      <th>room</th>\n",
       "      <th>ts</th>\n",
       "      <th>type</th>\n",
       "      <th>current</th>\n",
       "      <th>humidity</th>\n",
       "      <th>...</th>\n",
       "      <th>power-last-day</th>\n",
       "      <th>power-last-month</th>\n",
       "      <th>power-this-day</th>\n",
       "      <th>power-this-month</th>\n",
       "      <th>powerFactor</th>\n",
       "      <th>presence</th>\n",
       "      <th>switch</th>\n",
       "      <th>temperature</th>\n",
       "      <th>voltage</th>\n",
       "      <th>name(room)</th>\n",
       "    </tr>\n",
       "  </thead>\n",
       "  <tbody>\n",
       "  </tbody>\n",
       "</table>\n",
       "<p>0 rows × 22 columns</p>\n",
       "</div>"
      ],
      "text/plain": [
       "Empty DataFrame\n",
       "Columns: [deviceId, dong, ho, location, power, room, ts, type, current, humidity, illuminance, nickname, power-last-day, power-last-month, power-this-day, power-this-month, powerFactor, presence, switch, temperature, voltage, name(room)]\n",
       "Index: []\n",
       "\n",
       "[0 rows x 22 columns]"
      ]
     },
     "execution_count": 91,
     "metadata": {},
     "output_type": "execute_result"
    }
   ],
   "source": [
    "df[df['type'] == \"AQM\"]"
   ]
  },
  {
   "cell_type": "markdown",
   "id": "2d85f10b",
   "metadata": {},
   "source": [
    "#### PLC : 가정 부하"
   ]
  },
  {
   "cell_type": "code",
   "execution_count": 92,
   "id": "649cc291",
   "metadata": {
    "ExecuteTime": {
     "end_time": "2022-07-12T08:00:17.273229Z",
     "start_time": "2022-07-12T08:00:17.181730Z"
    }
   },
   "outputs": [],
   "source": [
    "# type = PLC\n",
    "\n",
    "colums = ['power']\n",
    "df_PLC = df[df['type'] == 'PLC'][colums]\n",
    "df_PLC = df_PLC.dropna()\n",
    "df_PLC = df_PLC.resample(resolution).max()\n",
    "df_PLC = df_PLC.rename(columns={\"power\" : \"power_this_month\"})"
   ]
  },
  {
   "cell_type": "code",
   "execution_count": 96,
   "id": "59a0ec87",
   "metadata": {
    "ExecuteTime": {
     "end_time": "2022-07-12T08:02:22.964551Z",
     "start_time": "2022-07-12T08:02:22.956550Z"
    }
   },
   "outputs": [
    {
     "data": {
      "text/html": [
       "<div>\n",
       "<style scoped>\n",
       "    .dataframe tbody tr th:only-of-type {\n",
       "        vertical-align: middle;\n",
       "    }\n",
       "\n",
       "    .dataframe tbody tr th {\n",
       "        vertical-align: top;\n",
       "    }\n",
       "\n",
       "    .dataframe thead th {\n",
       "        text-align: right;\n",
       "    }\n",
       "</style>\n",
       "<table border=\"1\" class=\"dataframe\">\n",
       "  <thead>\n",
       "    <tr style=\"text-align: right;\">\n",
       "      <th></th>\n",
       "      <th>power_this_month</th>\n",
       "    </tr>\n",
       "  </thead>\n",
       "  <tbody>\n",
       "    <tr>\n",
       "      <th>2021-07-01 00:00:00</th>\n",
       "      <td>2978.074</td>\n",
       "    </tr>\n",
       "    <tr>\n",
       "      <th>2021-07-01 00:05:00</th>\n",
       "      <td>NaN</td>\n",
       "    </tr>\n",
       "    <tr>\n",
       "      <th>2021-07-01 00:10:00</th>\n",
       "      <td>NaN</td>\n",
       "    </tr>\n",
       "    <tr>\n",
       "      <th>2021-07-01 00:15:00</th>\n",
       "      <td>2978.251</td>\n",
       "    </tr>\n",
       "    <tr>\n",
       "      <th>2021-07-01 00:20:00</th>\n",
       "      <td>NaN</td>\n",
       "    </tr>\n",
       "    <tr>\n",
       "      <th>...</th>\n",
       "      <td>...</td>\n",
       "    </tr>\n",
       "    <tr>\n",
       "      <th>2022-06-30 23:25:00</th>\n",
       "      <td>NaN</td>\n",
       "    </tr>\n",
       "    <tr>\n",
       "      <th>2022-06-30 23:30:00</th>\n",
       "      <td>8314.013</td>\n",
       "    </tr>\n",
       "    <tr>\n",
       "      <th>2022-06-30 23:35:00</th>\n",
       "      <td>NaN</td>\n",
       "    </tr>\n",
       "    <tr>\n",
       "      <th>2022-06-30 23:40:00</th>\n",
       "      <td>NaN</td>\n",
       "    </tr>\n",
       "    <tr>\n",
       "      <th>2022-06-30 23:45:00</th>\n",
       "      <td>8314.193</td>\n",
       "    </tr>\n",
       "  </tbody>\n",
       "</table>\n",
       "<p>105118 rows × 1 columns</p>\n",
       "</div>"
      ],
      "text/plain": [
       "                     power_this_month\n",
       "2021-07-01 00:00:00          2978.074\n",
       "2021-07-01 00:05:00               NaN\n",
       "2021-07-01 00:10:00               NaN\n",
       "2021-07-01 00:15:00          2978.251\n",
       "2021-07-01 00:20:00               NaN\n",
       "...                               ...\n",
       "2022-06-30 23:25:00               NaN\n",
       "2022-06-30 23:30:00          8314.013\n",
       "2022-06-30 23:35:00               NaN\n",
       "2022-06-30 23:40:00               NaN\n",
       "2022-06-30 23:45:00          8314.193\n",
       "\n",
       "[105118 rows x 1 columns]"
      ]
     },
     "execution_count": 96,
     "metadata": {},
     "output_type": "execute_result"
    }
   ],
   "source": [
    "df_PLC"
   ]
  },
  {
   "cell_type": "markdown",
   "id": "5afa2152",
   "metadata": {},
   "source": [
    "#### DSM : 도어 센서 (창문)"
   ]
  },
  {
   "cell_type": "code",
   "execution_count": 93,
   "id": "32aa96ae",
   "metadata": {
    "ExecuteTime": {
     "end_time": "2022-07-12T08:00:17.350730Z",
     "start_time": "2022-07-12T08:00:17.274201Z"
    }
   },
   "outputs": [
    {
     "ename": "KeyError",
     "evalue": "\"['door'] not in index\"",
     "output_type": "error",
     "traceback": [
      "\u001b[1;31m---------------------------------------------------------------------------\u001b[0m",
      "\u001b[1;31mKeyError\u001b[0m                                  Traceback (most recent call last)",
      "\u001b[1;32m~\\AppData\\Local\\Temp\\ipykernel_18692\\213032279.py\u001b[0m in \u001b[0;36m<module>\u001b[1;34m\u001b[0m\n\u001b[0;32m      1\u001b[0m \u001b[1;31m# type = PLC\u001b[0m\u001b[1;33m\u001b[0m\u001b[1;33m\u001b[0m\u001b[1;33m\u001b[0m\u001b[0m\n\u001b[0;32m      2\u001b[0m \u001b[1;33m\u001b[0m\u001b[0m\n\u001b[1;32m----> 3\u001b[1;33m \u001b[0mdf_DSM\u001b[0m \u001b[1;33m=\u001b[0m \u001b[0mdf\u001b[0m\u001b[1;33m[\u001b[0m\u001b[0mdf\u001b[0m\u001b[1;33m[\u001b[0m\u001b[1;34m'type'\u001b[0m\u001b[1;33m]\u001b[0m \u001b[1;33m==\u001b[0m \u001b[1;34m'DSM'\u001b[0m\u001b[1;33m]\u001b[0m\u001b[1;33m[\u001b[0m\u001b[1;33m[\u001b[0m\u001b[1;34m'name(room)'\u001b[0m\u001b[1;33m,\u001b[0m\u001b[1;34m'door'\u001b[0m\u001b[1;33m]\u001b[0m\u001b[1;33m]\u001b[0m\u001b[1;33m\u001b[0m\u001b[1;33m\u001b[0m\u001b[0m\n\u001b[0m\u001b[0;32m      4\u001b[0m \u001b[0mdf_DSM\u001b[0m \u001b[1;33m=\u001b[0m \u001b[0mdf_DSM\u001b[0m\u001b[1;33m.\u001b[0m\u001b[0mdropna\u001b[0m\u001b[1;33m(\u001b[0m\u001b[1;33m)\u001b[0m\u001b[1;33m\u001b[0m\u001b[1;33m\u001b[0m\u001b[0m\n\u001b[0;32m      5\u001b[0m \u001b[0mdf_DSM\u001b[0m \u001b[1;33m=\u001b[0m \u001b[0mdf_DSM\u001b[0m\u001b[1;33m.\u001b[0m\u001b[0mdrop_duplicates\u001b[0m\u001b[1;33m(\u001b[0m\u001b[1;33m)\u001b[0m\u001b[1;33m\u001b[0m\u001b[1;33m\u001b[0m\u001b[0m\n",
      "\u001b[1;32m~\\Anaconda3\\envs\\torch\\lib\\site-packages\\pandas\\core\\frame.py\u001b[0m in \u001b[0;36m__getitem__\u001b[1;34m(self, key)\u001b[0m\n\u001b[0;32m   3462\u001b[0m             \u001b[1;32mif\u001b[0m \u001b[0mis_iterator\u001b[0m\u001b[1;33m(\u001b[0m\u001b[0mkey\u001b[0m\u001b[1;33m)\u001b[0m\u001b[1;33m:\u001b[0m\u001b[1;33m\u001b[0m\u001b[1;33m\u001b[0m\u001b[0m\n\u001b[0;32m   3463\u001b[0m                 \u001b[0mkey\u001b[0m \u001b[1;33m=\u001b[0m \u001b[0mlist\u001b[0m\u001b[1;33m(\u001b[0m\u001b[0mkey\u001b[0m\u001b[1;33m)\u001b[0m\u001b[1;33m\u001b[0m\u001b[1;33m\u001b[0m\u001b[0m\n\u001b[1;32m-> 3464\u001b[1;33m             \u001b[0mindexer\u001b[0m \u001b[1;33m=\u001b[0m \u001b[0mself\u001b[0m\u001b[1;33m.\u001b[0m\u001b[0mloc\u001b[0m\u001b[1;33m.\u001b[0m\u001b[0m_get_listlike_indexer\u001b[0m\u001b[1;33m(\u001b[0m\u001b[0mkey\u001b[0m\u001b[1;33m,\u001b[0m \u001b[0maxis\u001b[0m\u001b[1;33m=\u001b[0m\u001b[1;36m1\u001b[0m\u001b[1;33m)\u001b[0m\u001b[1;33m[\u001b[0m\u001b[1;36m1\u001b[0m\u001b[1;33m]\u001b[0m\u001b[1;33m\u001b[0m\u001b[1;33m\u001b[0m\u001b[0m\n\u001b[0m\u001b[0;32m   3465\u001b[0m \u001b[1;33m\u001b[0m\u001b[0m\n\u001b[0;32m   3466\u001b[0m         \u001b[1;31m# take() does not accept boolean indexers\u001b[0m\u001b[1;33m\u001b[0m\u001b[1;33m\u001b[0m\u001b[1;33m\u001b[0m\u001b[0m\n",
      "\u001b[1;32m~\\Anaconda3\\envs\\torch\\lib\\site-packages\\pandas\\core\\indexing.py\u001b[0m in \u001b[0;36m_get_listlike_indexer\u001b[1;34m(self, key, axis)\u001b[0m\n\u001b[0;32m   1312\u001b[0m             \u001b[0mkeyarr\u001b[0m\u001b[1;33m,\u001b[0m \u001b[0mindexer\u001b[0m\u001b[1;33m,\u001b[0m \u001b[0mnew_indexer\u001b[0m \u001b[1;33m=\u001b[0m \u001b[0max\u001b[0m\u001b[1;33m.\u001b[0m\u001b[0m_reindex_non_unique\u001b[0m\u001b[1;33m(\u001b[0m\u001b[0mkeyarr\u001b[0m\u001b[1;33m)\u001b[0m\u001b[1;33m\u001b[0m\u001b[1;33m\u001b[0m\u001b[0m\n\u001b[0;32m   1313\u001b[0m \u001b[1;33m\u001b[0m\u001b[0m\n\u001b[1;32m-> 1314\u001b[1;33m         \u001b[0mself\u001b[0m\u001b[1;33m.\u001b[0m\u001b[0m_validate_read_indexer\u001b[0m\u001b[1;33m(\u001b[0m\u001b[0mkeyarr\u001b[0m\u001b[1;33m,\u001b[0m \u001b[0mindexer\u001b[0m\u001b[1;33m,\u001b[0m \u001b[0maxis\u001b[0m\u001b[1;33m)\u001b[0m\u001b[1;33m\u001b[0m\u001b[1;33m\u001b[0m\u001b[0m\n\u001b[0m\u001b[0;32m   1315\u001b[0m \u001b[1;33m\u001b[0m\u001b[0m\n\u001b[0;32m   1316\u001b[0m         if needs_i8_conversion(ax.dtype) or isinstance(\n",
      "\u001b[1;32m~\\Anaconda3\\envs\\torch\\lib\\site-packages\\pandas\\core\\indexing.py\u001b[0m in \u001b[0;36m_validate_read_indexer\u001b[1;34m(self, key, indexer, axis)\u001b[0m\n\u001b[0;32m   1375\u001b[0m \u001b[1;33m\u001b[0m\u001b[0m\n\u001b[0;32m   1376\u001b[0m             \u001b[0mnot_found\u001b[0m \u001b[1;33m=\u001b[0m \u001b[0mlist\u001b[0m\u001b[1;33m(\u001b[0m\u001b[0mensure_index\u001b[0m\u001b[1;33m(\u001b[0m\u001b[0mkey\u001b[0m\u001b[1;33m)\u001b[0m\u001b[1;33m[\u001b[0m\u001b[0mmissing_mask\u001b[0m\u001b[1;33m.\u001b[0m\u001b[0mnonzero\u001b[0m\u001b[1;33m(\u001b[0m\u001b[1;33m)\u001b[0m\u001b[1;33m[\u001b[0m\u001b[1;36m0\u001b[0m\u001b[1;33m]\u001b[0m\u001b[1;33m]\u001b[0m\u001b[1;33m.\u001b[0m\u001b[0munique\u001b[0m\u001b[1;33m(\u001b[0m\u001b[1;33m)\u001b[0m\u001b[1;33m)\u001b[0m\u001b[1;33m\u001b[0m\u001b[1;33m\u001b[0m\u001b[0m\n\u001b[1;32m-> 1377\u001b[1;33m             \u001b[1;32mraise\u001b[0m \u001b[0mKeyError\u001b[0m\u001b[1;33m(\u001b[0m\u001b[1;34mf\"{not_found} not in index\"\u001b[0m\u001b[1;33m)\u001b[0m\u001b[1;33m\u001b[0m\u001b[1;33m\u001b[0m\u001b[0m\n\u001b[0m\u001b[0;32m   1378\u001b[0m \u001b[1;33m\u001b[0m\u001b[0m\n\u001b[0;32m   1379\u001b[0m \u001b[1;33m\u001b[0m\u001b[0m\n",
      "\u001b[1;31mKeyError\u001b[0m: \"['door'] not in index\""
     ]
    }
   ],
   "source": [
    "# type = PLC\n",
    "\n",
    "df_DSM = df[df['type'] == 'DSM'][['name(room)','door']]\n",
    "df_DSM = df_DSM.dropna()\n",
    "df_DSM = df_DSM.drop_duplicates()\n",
    "\n",
    "# # as-is : 1, 3 -> to-be : 0 (닫힘, 닫힘 지속 감지)\n",
    "# # as-is : 2, 4 -> to-be : 1 (열림, 열림 지속 감지)\n",
    "df_DSM.loc[((df_DSM['door'] == 1) | (df_DSM['door'] == 3)), '창문열림상태'] = 0\n",
    "df_DSM.loc[((df_DSM['door'] == 2) | (df_DSM['door'] == 4)), '창문열림상태'] = 1\n",
    "\n",
    "df_DSM = df_DSM.pivot(columns='name(room)', values=['창문열림상태'])\n",
    "df_DSM = df_DSM['창문열림상태']\n",
    "df_DSM = df_DSM.resample(resolution).min()\n",
    "\n",
    "df_DSM = df_DSM[['DSM(발코니1)']]\n",
    "df_DSM = df_DSM.rename(columns={\"DSM(발코니1)\" : \"창문열림(거실)\"})"
   ]
  },
  {
   "cell_type": "code",
   "execution_count": 97,
   "id": "82784148",
   "metadata": {
    "ExecuteTime": {
     "end_time": "2022-07-12T08:02:46.394953Z",
     "start_time": "2022-07-12T08:02:46.378949Z"
    }
   },
   "outputs": [
    {
     "data": {
      "text/html": [
       "<div>\n",
       "<style scoped>\n",
       "    .dataframe tbody tr th:only-of-type {\n",
       "        vertical-align: middle;\n",
       "    }\n",
       "\n",
       "    .dataframe tbody tr th {\n",
       "        vertical-align: top;\n",
       "    }\n",
       "\n",
       "    .dataframe thead th {\n",
       "        text-align: right;\n",
       "    }\n",
       "</style>\n",
       "<table border=\"1\" class=\"dataframe\">\n",
       "  <thead>\n",
       "    <tr style=\"text-align: right;\">\n",
       "      <th>name(room)</th>\n",
       "      <th>창문열림(거실)</th>\n",
       "    </tr>\n",
       "  </thead>\n",
       "  <tbody>\n",
       "    <tr>\n",
       "      <th>2021-07-01 00:00:00</th>\n",
       "      <td>1.0</td>\n",
       "    </tr>\n",
       "    <tr>\n",
       "      <th>2021-07-01 00:05:00</th>\n",
       "      <td>NaN</td>\n",
       "    </tr>\n",
       "    <tr>\n",
       "      <th>2021-07-01 00:10:00</th>\n",
       "      <td>NaN</td>\n",
       "    </tr>\n",
       "    <tr>\n",
       "      <th>2021-07-01 00:15:00</th>\n",
       "      <td>NaN</td>\n",
       "    </tr>\n",
       "    <tr>\n",
       "      <th>2021-07-01 00:20:00</th>\n",
       "      <td>NaN</td>\n",
       "    </tr>\n",
       "    <tr>\n",
       "      <th>...</th>\n",
       "      <td>...</td>\n",
       "    </tr>\n",
       "    <tr>\n",
       "      <th>2022-02-04 23:25:00</th>\n",
       "      <td>NaN</td>\n",
       "    </tr>\n",
       "    <tr>\n",
       "      <th>2022-02-04 23:30:00</th>\n",
       "      <td>NaN</td>\n",
       "    </tr>\n",
       "    <tr>\n",
       "      <th>2022-02-04 23:35:00</th>\n",
       "      <td>NaN</td>\n",
       "    </tr>\n",
       "    <tr>\n",
       "      <th>2022-02-04 23:40:00</th>\n",
       "      <td>NaN</td>\n",
       "    </tr>\n",
       "    <tr>\n",
       "      <th>2022-02-04 23:45:00</th>\n",
       "      <td>1.0</td>\n",
       "    </tr>\n",
       "  </tbody>\n",
       "</table>\n",
       "<p>63070 rows × 1 columns</p>\n",
       "</div>"
      ],
      "text/plain": [
       "name(room)           창문열림(거실)\n",
       "2021-07-01 00:00:00       1.0\n",
       "2021-07-01 00:05:00       NaN\n",
       "2021-07-01 00:10:00       NaN\n",
       "2021-07-01 00:15:00       NaN\n",
       "2021-07-01 00:20:00       NaN\n",
       "...                       ...\n",
       "2022-02-04 23:25:00       NaN\n",
       "2022-02-04 23:30:00       NaN\n",
       "2022-02-04 23:35:00       NaN\n",
       "2022-02-04 23:40:00       NaN\n",
       "2022-02-04 23:45:00       1.0\n",
       "\n",
       "[63070 rows x 1 columns]"
      ]
     },
     "execution_count": 97,
     "metadata": {},
     "output_type": "execute_result"
    }
   ],
   "source": [
    "df_DSM"
   ]
  },
  {
   "cell_type": "markdown",
   "id": "86b44a45",
   "metadata": {},
   "source": [
    "#### merge df"
   ]
  },
  {
   "cell_type": "code",
   "execution_count": null,
   "id": "349304dc",
   "metadata": {
    "ExecuteTime": {
     "end_time": "2022-07-12T08:00:17.352201Z",
     "start_time": "2022-07-12T08:00:17.352201Z"
    }
   },
   "outputs": [],
   "source": [
    "df_temp1 = pd.merge(df_CCM_power, df_usm, left_index=True, right_index=True, how='left')\n",
    "df_temp2 = pd.merge(df_temp1, df_PLC, left_index=True, right_index=True, how='left')\n",
    "df_temp3 = pd.merge(df_temp2, df_DSM, left_index=True, right_index=True, how='left')"
   ]
  },
  {
   "cell_type": "code",
   "execution_count": 77,
   "id": "2dd33036",
   "metadata": {
    "ExecuteTime": {
     "end_time": "2022-07-12T07:55:53.186860Z",
     "start_time": "2022-07-12T07:55:53.166247Z"
    },
    "scrolled": true
   },
   "outputs": [
    {
     "data": {
      "text/plain": [
       "['PC2(침실3)']"
      ]
     },
     "execution_count": 77,
     "metadata": {},
     "output_type": "execute_result"
    }
   ],
   "source": [
    "room_name = '침실3'\n",
    "room_columns = [i for i in df_temp3.columns if room_name in i]\n",
    "room_columns"
   ]
  },
  {
   "cell_type": "code",
   "execution_count": 21,
   "id": "918cde93",
   "metadata": {
    "ExecuteTime": {
     "end_time": "2022-07-12T05:12:04.387038Z",
     "start_time": "2022-07-12T05:12:04.265037Z"
    }
   },
   "outputs": [
    {
     "ename": "KeyError",
     "evalue": "'TV(침실1)'",
     "output_type": "error",
     "traceback": [
      "\u001b[1;31m---------------------------------------------------------------------------\u001b[0m",
      "\u001b[1;31mKeyError\u001b[0m                                  Traceback (most recent call last)",
      "\u001b[1;32m~\\Anaconda3\\envs\\torch\\lib\\site-packages\\pandas\\core\\indexes\\base.py\u001b[0m in \u001b[0;36mget_loc\u001b[1;34m(self, key, method, tolerance)\u001b[0m\n\u001b[0;32m   3360\u001b[0m             \u001b[1;32mtry\u001b[0m\u001b[1;33m:\u001b[0m\u001b[1;33m\u001b[0m\u001b[1;33m\u001b[0m\u001b[0m\n\u001b[1;32m-> 3361\u001b[1;33m                 \u001b[1;32mreturn\u001b[0m \u001b[0mself\u001b[0m\u001b[1;33m.\u001b[0m\u001b[0m_engine\u001b[0m\u001b[1;33m.\u001b[0m\u001b[0mget_loc\u001b[0m\u001b[1;33m(\u001b[0m\u001b[0mcasted_key\u001b[0m\u001b[1;33m)\u001b[0m\u001b[1;33m\u001b[0m\u001b[1;33m\u001b[0m\u001b[0m\n\u001b[0m\u001b[0;32m   3362\u001b[0m             \u001b[1;32mexcept\u001b[0m \u001b[0mKeyError\u001b[0m \u001b[1;32mas\u001b[0m \u001b[0merr\u001b[0m\u001b[1;33m:\u001b[0m\u001b[1;33m\u001b[0m\u001b[1;33m\u001b[0m\u001b[0m\n",
      "\u001b[1;32m~\\Anaconda3\\envs\\torch\\lib\\site-packages\\pandas\\_libs\\index.pyx\u001b[0m in \u001b[0;36mpandas._libs.index.IndexEngine.get_loc\u001b[1;34m()\u001b[0m\n",
      "\u001b[1;32m~\\Anaconda3\\envs\\torch\\lib\\site-packages\\pandas\\_libs\\index.pyx\u001b[0m in \u001b[0;36mpandas._libs.index.IndexEngine.get_loc\u001b[1;34m()\u001b[0m\n",
      "\u001b[1;32mpandas\\_libs\\hashtable_class_helper.pxi\u001b[0m in \u001b[0;36mpandas._libs.hashtable.PyObjectHashTable.get_item\u001b[1;34m()\u001b[0m\n",
      "\u001b[1;32mpandas\\_libs\\hashtable_class_helper.pxi\u001b[0m in \u001b[0;36mpandas._libs.hashtable.PyObjectHashTable.get_item\u001b[1;34m()\u001b[0m\n",
      "\u001b[1;31mKeyError\u001b[0m: 'TV(침실1)'",
      "\nThe above exception was the direct cause of the following exception:\n",
      "\u001b[1;31mKeyError\u001b[0m                                  Traceback (most recent call last)",
      "\u001b[1;32m~\\AppData\\Local\\Temp\\ipykernel_18692\\994834083.py\u001b[0m in \u001b[0;36m<module>\u001b[1;34m\u001b[0m\n\u001b[0;32m      8\u001b[0m \u001b[1;33m\u001b[0m\u001b[0m\n\u001b[0;32m      9\u001b[0m \u001b[1;31m# First Plot\u001b[0m\u001b[1;33m\u001b[0m\u001b[1;33m\u001b[0m\u001b[1;33m\u001b[0m\u001b[0m\n\u001b[1;32m---> 10\u001b[1;33m lns1 = ax1.plot(df_temp3[room_columns]['TV(침실1)'].dropna(), \n\u001b[0m\u001b[0;32m     11\u001b[0m                 \u001b[0mcolor\u001b[0m\u001b[1;33m=\u001b[0m\u001b[1;34m'b'\u001b[0m\u001b[1;33m,\u001b[0m\u001b[1;33m\u001b[0m\u001b[1;33m\u001b[0m\u001b[0m\n\u001b[0;32m     12\u001b[0m                 \u001b[0mmarker\u001b[0m \u001b[1;33m=\u001b[0m \u001b[1;34m's'\u001b[0m\u001b[1;33m,\u001b[0m\u001b[1;33m\u001b[0m\u001b[1;33m\u001b[0m\u001b[0m\n",
      "\u001b[1;32m~\\Anaconda3\\envs\\torch\\lib\\site-packages\\pandas\\core\\frame.py\u001b[0m in \u001b[0;36m__getitem__\u001b[1;34m(self, key)\u001b[0m\n\u001b[0;32m   3456\u001b[0m             \u001b[1;32mif\u001b[0m \u001b[0mself\u001b[0m\u001b[1;33m.\u001b[0m\u001b[0mcolumns\u001b[0m\u001b[1;33m.\u001b[0m\u001b[0mnlevels\u001b[0m \u001b[1;33m>\u001b[0m \u001b[1;36m1\u001b[0m\u001b[1;33m:\u001b[0m\u001b[1;33m\u001b[0m\u001b[1;33m\u001b[0m\u001b[0m\n\u001b[0;32m   3457\u001b[0m                 \u001b[1;32mreturn\u001b[0m \u001b[0mself\u001b[0m\u001b[1;33m.\u001b[0m\u001b[0m_getitem_multilevel\u001b[0m\u001b[1;33m(\u001b[0m\u001b[0mkey\u001b[0m\u001b[1;33m)\u001b[0m\u001b[1;33m\u001b[0m\u001b[1;33m\u001b[0m\u001b[0m\n\u001b[1;32m-> 3458\u001b[1;33m             \u001b[0mindexer\u001b[0m \u001b[1;33m=\u001b[0m \u001b[0mself\u001b[0m\u001b[1;33m.\u001b[0m\u001b[0mcolumns\u001b[0m\u001b[1;33m.\u001b[0m\u001b[0mget_loc\u001b[0m\u001b[1;33m(\u001b[0m\u001b[0mkey\u001b[0m\u001b[1;33m)\u001b[0m\u001b[1;33m\u001b[0m\u001b[1;33m\u001b[0m\u001b[0m\n\u001b[0m\u001b[0;32m   3459\u001b[0m             \u001b[1;32mif\u001b[0m \u001b[0mis_integer\u001b[0m\u001b[1;33m(\u001b[0m\u001b[0mindexer\u001b[0m\u001b[1;33m)\u001b[0m\u001b[1;33m:\u001b[0m\u001b[1;33m\u001b[0m\u001b[1;33m\u001b[0m\u001b[0m\n\u001b[0;32m   3460\u001b[0m                 \u001b[0mindexer\u001b[0m \u001b[1;33m=\u001b[0m \u001b[1;33m[\u001b[0m\u001b[0mindexer\u001b[0m\u001b[1;33m]\u001b[0m\u001b[1;33m\u001b[0m\u001b[1;33m\u001b[0m\u001b[0m\n",
      "\u001b[1;32m~\\Anaconda3\\envs\\torch\\lib\\site-packages\\pandas\\core\\indexes\\base.py\u001b[0m in \u001b[0;36mget_loc\u001b[1;34m(self, key, method, tolerance)\u001b[0m\n\u001b[0;32m   3361\u001b[0m                 \u001b[1;32mreturn\u001b[0m \u001b[0mself\u001b[0m\u001b[1;33m.\u001b[0m\u001b[0m_engine\u001b[0m\u001b[1;33m.\u001b[0m\u001b[0mget_loc\u001b[0m\u001b[1;33m(\u001b[0m\u001b[0mcasted_key\u001b[0m\u001b[1;33m)\u001b[0m\u001b[1;33m\u001b[0m\u001b[1;33m\u001b[0m\u001b[0m\n\u001b[0;32m   3362\u001b[0m             \u001b[1;32mexcept\u001b[0m \u001b[0mKeyError\u001b[0m \u001b[1;32mas\u001b[0m \u001b[0merr\u001b[0m\u001b[1;33m:\u001b[0m\u001b[1;33m\u001b[0m\u001b[1;33m\u001b[0m\u001b[0m\n\u001b[1;32m-> 3363\u001b[1;33m                 \u001b[1;32mraise\u001b[0m \u001b[0mKeyError\u001b[0m\u001b[1;33m(\u001b[0m\u001b[0mkey\u001b[0m\u001b[1;33m)\u001b[0m \u001b[1;32mfrom\u001b[0m \u001b[0merr\u001b[0m\u001b[1;33m\u001b[0m\u001b[1;33m\u001b[0m\u001b[0m\n\u001b[0m\u001b[0;32m   3364\u001b[0m \u001b[1;33m\u001b[0m\u001b[0m\n\u001b[0;32m   3365\u001b[0m         \u001b[1;32mif\u001b[0m \u001b[0mis_scalar\u001b[0m\u001b[1;33m(\u001b[0m\u001b[0mkey\u001b[0m\u001b[1;33m)\u001b[0m \u001b[1;32mand\u001b[0m \u001b[0misna\u001b[0m\u001b[1;33m(\u001b[0m\u001b[0mkey\u001b[0m\u001b[1;33m)\u001b[0m \u001b[1;32mand\u001b[0m \u001b[1;32mnot\u001b[0m \u001b[0mself\u001b[0m\u001b[1;33m.\u001b[0m\u001b[0mhasnans\u001b[0m\u001b[1;33m:\u001b[0m\u001b[1;33m\u001b[0m\u001b[1;33m\u001b[0m\u001b[0m\n",
      "\u001b[1;31mKeyError\u001b[0m: 'TV(침실1)'"
     ]
    },
    {
     "data": {
      "image/png": "[encoded data removed]",
      "text/plain": [
       "<Figure size 1080x360 with 1 Axes>"
      ]
     },
     "metadata": {
      "needs_background": "light"
     },
     "output_type": "display_data"
    }
   ],
   "source": [
    "start_time = \"2022-04-12 00:00\"\n",
    "end_time = \"2022-04-14 23:59\"\n",
    "\n",
    "from matplotlib.ticker import MultipleLocator\n",
    "\n",
    "# 60 mins \n",
    "fig, ax1 = plt.subplots(1, 1, figsize=(15, 5))\n",
    "\n",
    "# First Plot\n",
    "lns1 = ax1.plot(df_temp3[room_columns]['TV(침실1)'].dropna(), \n",
    "                color='b', \n",
    "                marker = 's', \n",
    "                markersize=2, \n",
    "                linestyle = \"dashed\", \n",
    "                label='W')\n",
    "\n",
    "\n",
    "ax1.set_xlim(pd.to_datetime(start_time), pd.to_datetime(end_time))\n",
    "ax1.set_xlabel('date', fontsize=17)\n",
    "ax1.set_ylabel('Power (W)', fontsize=17)\n",
    "ax1.tick_params(axis = 'x', labelsize = 12, rotation=45)\n",
    "ax1.tick_params(axis = 'y', labelsize = 12)\n",
    "ax1.grid(linewidth=0.3)\n",
    "\n",
    "ax1.legend(\"Power\")\n",
    "ax1.set_title(dong + \"-\" + ho, fontsize=16, va='bottom', fontweight='semibold')\n",
    "# ax1.legend(['AC (Wh)'], loc=\"center right\", fontsize=12)\n",
    "\n",
    "# Second Plot\n",
    "ax2 = ax1.twinx()\n",
    "\n",
    "lns2 = ax2.plot(df_temp3[room_columns]['presence_USM(침실1)'], \n",
    "                color='black', \n",
    "                marker = '*', \n",
    "                markersize=2,\n",
    "                alpha=0.5,\n",
    "                linestyle = \"dashed\",\n",
    "                label='재실유무 (침실1)')\n",
    "\n",
    "ax2.set_ylim([0, 3])\n",
    "ax2.set_ylabel('Presence', fontsize=17)\n",
    "ax2.tick_params(axis = 'y', labelsize = 12)\n",
    "\n",
    "# added these two lines\n",
    "lns = lns1+lns2\n",
    "\n",
    "labs = [l.get_label() for l in lns]\n",
    "ax1.legend(lns, labs, loc=\"best\", fontsize=12, bbox_to_anchor=(1.219, 0.5))\n",
    "\n",
    "plt.tight_layout()\n",
    "plt.show()"
   ]
  },
  {
   "cell_type": "markdown",
   "id": "b4fb77dd",
   "metadata": {},
   "source": [
    "### 가전기기별 색상 지정\n",
    "\n",
    "- https://wikidocs.net/images/page/92085/set_color_05.PNG"
   ]
  },
  {
   "cell_type": "markdown",
   "id": "ad940874",
   "metadata": {},
   "source": [
    "| appliance | character | color | \n",
    "| :---: | :---: | :---: |\n",
    "| TV | 'b' | blue |\n",
    "| rice cooker | 'g' | green |\n",
    "| air conditioner | 'limegreen' | limegreen | \n",
    "| microwave | 'c' | cyan | \n",
    "| air fryer | 'm' | magenta | \n",
    "| hair dryer | 'y' | yellow | \n",
    "| coffee pot | 'b' | black | \n",
    "| washing machine | 'dodgerblue' | dodgerblue | \n",
    "| fan | 'bisque' | bisqu | "
   ]
  },
  {
   "cell_type": "code",
   "execution_count": 194,
   "id": "d5d29d79",
   "metadata": {
    "ExecuteTime": {
     "end_time": "2022-07-08T09:59:37.112812Z",
     "start_time": "2022-07-08T09:59:37.106313Z"
    }
   },
   "outputs": [],
   "source": [
    "TV_colors = ['rosybrown', 'lightcoral', 'indianred', 'brown']\n",
    "PC_colors = ['goldenrod', 'goldenrod', 'gold', 'khaki']\n",
    "microwave = ['lighseagreen', 'aqua', 'turquoise', 'lightcyan']\n",
    "air_fryer = ['yellowgreen', 'chartreuse', 'palegreen', 'lightgreen', 'darkseagreen']\n",
    "hair_dryer = ['mediumslateblue', 'mediumpurple', 'rebeccapurple', 'blueviolet']"
   ]
  },
  {
   "cell_type": "code",
   "execution_count": null,
   "id": "985ec2a8",
   "metadata": {
    "ExecuteTime": {
     "end_time": "2022-07-12T08:00:17.353230Z",
     "start_time": "2022-07-12T08:00:17.353230Z"
    }
   },
   "outputs": [],
   "source": [
    "df_temp3.to_csv('new_data/'+dong+\"_\"+ho+\"_appliances(real)_environment(real)_and_houseload(cum).csv\")"
   ]
  },
  {
   "cell_type": "code",
   "execution_count": null,
   "id": "4272e208",
   "metadata": {
    "ExecuteTime": {
     "end_time": "2022-07-12T08:00:17.354201Z",
     "start_time": "2022-07-12T08:00:17.354201Z"
    }
   },
   "outputs": [],
   "source": [
    "df_temp3.columns"
   ]
  },
  {
   "cell_type": "code",
   "execution_count": null,
   "id": "fba7e0ff",
   "metadata": {
    "ExecuteTime": {
     "end_time": "2022-07-12T08:00:17.354700Z",
     "start_time": "2022-07-12T08:00:17.354700Z"
    }
   },
   "outputs": [],
   "source": [
    "df_temp3"
   ]
  },
  {
   "cell_type": "markdown",
   "id": "b626f7f8",
   "metadata": {},
   "source": [
    "- https://voila-gallery.org/\n",
    "\n",
    "    - https://hub-binder.mybinder.ovh/user/voila-gallery-e-tymap_dashboard-yuw66sk5/voila/render/Electricity_map.ipynb?token=GN1vxDZ6QlC3WbOUACYdCg"
   ]
  },
  {
   "cell_type": "code",
   "execution_count": 199,
   "id": "041adc44",
   "metadata": {
    "ExecuteTime": {
     "end_time": "2022-07-08T10:34:22.191279Z",
     "start_time": "2022-07-08T10:34:22.163755Z"
    }
   },
   "outputs": [
    {
     "data": {
      "application/vnd.jupyter.widget-view+json": {
       "model_id": "2117dc0f324e438b8f70b5477d79e298",
       "version_major": 2,
       "version_minor": 0
      },
      "text/plain": [
       "VBox(children=(FloatSlider(value=4.0, description='$x$'), FloatText(value=0.0, description='$x^2$', disabled=T…"
      ]
     },
     "metadata": {},
     "output_type": "display_data"
    }
   ],
   "source": [
    "import ipywidgets as widgets\n",
    "\n",
    "slider = widgets.FloatSlider(description='$x$', value=4)\n",
    "text = widgets.FloatText(disabled=True, description='$x^2$')\n",
    "\n",
    "def compute(*ignore):\n",
    "    text.value = str(slider.value ** 2)\n",
    "\n",
    "slider.observe(compute, 'value')\n",
    "\n",
    "widgets.VBox([slider, text])"
   ]
  },
  {
   "cell_type": "code",
   "execution_count": 211,
   "id": "282d0b26",
   "metadata": {
    "ExecuteTime": {
     "end_time": "2022-07-08T10:44:18.944637Z",
     "start_time": "2022-07-08T10:44:18.793160Z"
    }
   },
   "outputs": [
    {
     "data": {
      "application/vnd.jupyter.widget-view+json": {
       "model_id": "e3cce4989e8c4d2093112a719325304e",
       "version_major": 2,
       "version_minor": 0
      },
      "text/plain": [
       "HBox(children=(VBox(children=(Button(description='PC(침실2)', style=ButtonStyle()), Button(description='PMM(조명)'…"
      ]
     },
     "metadata": {},
     "output_type": "display_data"
    }
   ],
   "source": [
    "from ipywidgets import Button, HBox, VBox\n",
    "\n",
    "words = list(df_temp3.columns)\n",
    "items = [Button(description=w) for w in words]\n",
    "\n",
    "left_box = VBox([items[0], items[1]])\n",
    "middle_box =  VBox([items[2], items[3]])\n",
    "right_box =  VBox([items[4], items[5]])\n",
    "\n",
    "HBox([left_box, middle_box, right_box])"
   ]
  },
  {
   "cell_type": "code",
   "execution_count": 213,
   "id": "04eebe3b",
   "metadata": {
    "ExecuteTime": {
     "end_time": "2022-07-08T11:02:17.484623Z",
     "start_time": "2022-07-08T11:02:17.479594Z"
    }
   },
   "outputs": [
    {
     "data": {
      "text/plain": [
       "['PC(침실2)',\n",
       " 'TV(거실)',\n",
       " 'TV(침실1)',\n",
       " '선풍기1(침실1)',\n",
       " '선풍기2(침실2)',\n",
       " '세탁기(발코니2)',\n",
       " '에어컨(거실)',\n",
       " '에어컨실외기(거실)',\n",
       " '에어프라이기(주방)',\n",
       " '전기밥솥(주방)',\n",
       " '전자레인지(주방)',\n",
       " '커피포트(주방)',\n",
       " '헤어드라이어(침실1)']"
      ]
     },
     "execution_count": 213,
     "metadata": {},
     "output_type": "execute_result"
    }
   ],
   "source": [
    "ccm_columns"
   ]
  },
  {
   "cell_type": "code",
   "execution_count": 215,
   "id": "b913dfdf",
   "metadata": {
    "ExecuteTime": {
     "end_time": "2022-07-08T11:04:02.672810Z",
     "start_time": "2022-07-08T11:04:02.635281Z"
    }
   },
   "outputs": [
    {
     "ename": "DeprecationWarning",
     "evalue": "\n            Sentinel is not a public part of the traitlets API.\n            It was published by mistake, and may be removed in the future.\n            ",
     "output_type": "error",
     "traceback": [
      "\u001b[1;31m---------------------------------------------------------------------------\u001b[0m",
      "\u001b[1;31mDeprecationWarning\u001b[0m                        Traceback (most recent call last)",
      "\u001b[1;32m~\\AppData\\Local\\Temp\\ipykernel_29056\\1623378603.py\u001b[0m in \u001b[0;36m<module>\u001b[1;34m\u001b[0m\n\u001b[0;32m      1\u001b[0m \u001b[1;32mimport\u001b[0m \u001b[0mnumpy\u001b[0m \u001b[1;32mas\u001b[0m \u001b[0mnp\u001b[0m\u001b[1;33m\u001b[0m\u001b[1;33m\u001b[0m\u001b[0m\n\u001b[1;32m----> 2\u001b[1;33m \u001b[1;32mimport\u001b[0m \u001b[0mbqplot\u001b[0m\u001b[1;33m.\u001b[0m\u001b[0mpyplot\u001b[0m \u001b[1;32mas\u001b[0m \u001b[0mplt\u001b[0m\u001b[1;33m\u001b[0m\u001b[1;33m\u001b[0m\u001b[0m\n\u001b[0m\u001b[0;32m      3\u001b[0m from bqplot import (\n\u001b[0;32m      4\u001b[0m     \u001b[0mCATEGORY10\u001b[0m\u001b[1;33m,\u001b[0m\u001b[1;33m\u001b[0m\u001b[1;33m\u001b[0m\u001b[0m\n\u001b[0;32m      5\u001b[0m     \u001b[0mColorScale\u001b[0m\u001b[1;33m,\u001b[0m\u001b[1;33m\u001b[0m\u001b[1;33m\u001b[0m\u001b[0m\n",
      "\u001b[1;32m~\\Anaconda3\\envs\\torch\\lib\\site-packages\\bqplot\\__init__.py\u001b[0m in \u001b[0;36m<module>\u001b[1;34m\u001b[0m\n\u001b[0;32m     62\u001b[0m \"\"\"\n\u001b[0;32m     63\u001b[0m \u001b[1;33m\u001b[0m\u001b[0m\n\u001b[1;32m---> 64\u001b[1;33m \u001b[1;32mfrom\u001b[0m \u001b[1;33m.\u001b[0m\u001b[0mfigure\u001b[0m \u001b[1;32mimport\u001b[0m \u001b[1;33m*\u001b[0m  \u001b[1;31m# noqa\u001b[0m\u001b[1;33m\u001b[0m\u001b[1;33m\u001b[0m\u001b[0m\n\u001b[0m\u001b[0;32m     65\u001b[0m \u001b[1;32mfrom\u001b[0m \u001b[1;33m.\u001b[0m\u001b[0maxes\u001b[0m \u001b[1;32mimport\u001b[0m \u001b[1;33m*\u001b[0m  \u001b[1;31m# noqa\u001b[0m\u001b[1;33m\u001b[0m\u001b[1;33m\u001b[0m\u001b[0m\n\u001b[0;32m     66\u001b[0m \u001b[1;32mfrom\u001b[0m \u001b[1;33m.\u001b[0m\u001b[0mmarks\u001b[0m \u001b[1;32mimport\u001b[0m \u001b[1;33m*\u001b[0m  \u001b[1;31m# noqa\u001b[0m\u001b[1;33m\u001b[0m\u001b[1;33m\u001b[0m\u001b[0m\n",
      "\u001b[1;32m~\\Anaconda3\\envs\\torch\\lib\\site-packages\\bqplot\\figure.py\u001b[0m in \u001b[0;36m<module>\u001b[1;34m\u001b[0m\n\u001b[0;32m     34\u001b[0m \u001b[1;33m\u001b[0m\u001b[0m\n\u001b[0;32m     35\u001b[0m \u001b[1;32mfrom\u001b[0m \u001b[1;33m.\u001b[0m\u001b[0mscales\u001b[0m \u001b[1;32mimport\u001b[0m \u001b[0mScale\u001b[0m\u001b[1;33m,\u001b[0m \u001b[0mLinearScale\u001b[0m\u001b[1;33m\u001b[0m\u001b[1;33m\u001b[0m\u001b[0m\n\u001b[1;32m---> 36\u001b[1;33m \u001b[1;32mfrom\u001b[0m \u001b[1;33m.\u001b[0m\u001b[0minteracts\u001b[0m \u001b[1;32mimport\u001b[0m \u001b[0mInteraction\u001b[0m\u001b[1;33m\u001b[0m\u001b[1;33m\u001b[0m\u001b[0m\n\u001b[0m\u001b[0;32m     37\u001b[0m \u001b[1;32mfrom\u001b[0m \u001b[1;33m.\u001b[0m\u001b[0mmarks\u001b[0m \u001b[1;32mimport\u001b[0m \u001b[0mMark\u001b[0m\u001b[1;33m\u001b[0m\u001b[1;33m\u001b[0m\u001b[0m\n\u001b[0;32m     38\u001b[0m \u001b[1;32mfrom\u001b[0m \u001b[1;33m.\u001b[0m\u001b[0maxes\u001b[0m \u001b[1;32mimport\u001b[0m \u001b[0mAxis\u001b[0m\u001b[1;33m\u001b[0m\u001b[1;33m\u001b[0m\u001b[0m\n",
      "\u001b[1;32m~\\Anaconda3\\envs\\torch\\lib\\site-packages\\bqplot\\interacts.py\u001b[0m in \u001b[0;36m<module>\u001b[1;34m\u001b[0m\n\u001b[0;32m     39\u001b[0m from traitlets import (Bool, Int, Float, Unicode, Dict,\n\u001b[0;32m     40\u001b[0m                        Instance, List, Enum, observe)\n\u001b[1;32m---> 41\u001b[1;33m \u001b[1;32mfrom\u001b[0m \u001b[0mtraittypes\u001b[0m \u001b[1;32mimport\u001b[0m \u001b[0mArray\u001b[0m\u001b[1;33m\u001b[0m\u001b[1;33m\u001b[0m\u001b[0m\n\u001b[0m\u001b[0;32m     42\u001b[0m \u001b[1;32mfrom\u001b[0m \u001b[0mipywidgets\u001b[0m \u001b[1;32mimport\u001b[0m \u001b[0mWidget\u001b[0m\u001b[1;33m,\u001b[0m \u001b[0mColor\u001b[0m\u001b[1;33m,\u001b[0m \u001b[0mwidget_serialization\u001b[0m\u001b[1;33m,\u001b[0m \u001b[0mregister\u001b[0m\u001b[1;33m\u001b[0m\u001b[1;33m\u001b[0m\u001b[0m\n\u001b[0;32m     43\u001b[0m \u001b[1;33m\u001b[0m\u001b[0m\n",
      "\u001b[1;32m~\\Anaconda3\\envs\\torch\\lib\\site-packages\\traittypes\\__init__.py\u001b[0m in \u001b[0;36m<module>\u001b[1;34m\u001b[0m\n\u001b[1;32m----> 1\u001b[1;33m \u001b[1;32mfrom\u001b[0m \u001b[1;33m.\u001b[0m\u001b[0mtraittypes\u001b[0m \u001b[1;32mimport\u001b[0m \u001b[1;33m*\u001b[0m\u001b[1;33m\u001b[0m\u001b[1;33m\u001b[0m\u001b[0m\n\u001b[0m\u001b[0;32m      2\u001b[0m \u001b[1;32mfrom\u001b[0m \u001b[1;33m.\u001b[0m\u001b[0m_version\u001b[0m \u001b[1;32mimport\u001b[0m \u001b[0mversion_info\u001b[0m\u001b[1;33m,\u001b[0m \u001b[0m__version__\u001b[0m\u001b[1;33m\u001b[0m\u001b[1;33m\u001b[0m\u001b[0m\n",
      "\u001b[1;32m~\\Anaconda3\\envs\\torch\\lib\\site-packages\\traittypes\\traittypes.py\u001b[0m in \u001b[0;36m<module>\u001b[1;34m\u001b[0m\n\u001b[0;32m     22\u001b[0m \u001b[0mUsed\u001b[0m \u001b[1;32min\u001b[0m \u001b[0mtraittypes\u001b[0m \u001b[0mto\u001b[0m \u001b[0mspecify\u001b[0m \u001b[0mthat\u001b[0m \u001b[0mthe\u001b[0m \u001b[0mdefault\u001b[0m \u001b[0mvalue\u001b[0m \u001b[0mshould\u001b[0m\u001b[1;33m\u001b[0m\u001b[1;33m\u001b[0m\u001b[0m\n\u001b[0;32m     23\u001b[0m \u001b[0mbe\u001b[0m \u001b[0man\u001b[0m \u001b[0mempty\u001b[0m \u001b[0mdataset\u001b[0m\u001b[1;33m\u001b[0m\u001b[1;33m\u001b[0m\u001b[0m\n\u001b[1;32m---> 24\u001b[1;33m \"\"\")\n\u001b[0m\u001b[0;32m     25\u001b[0m \u001b[1;33m\u001b[0m\u001b[0m\n\u001b[0;32m     26\u001b[0m \u001b[1;33m\u001b[0m\u001b[0m\n",
      "\u001b[1;32m~\\Anaconda3\\envs\\torch\\lib\\site-packages\\traitlets\\__init__.py\u001b[0m in \u001b[0;36m__init__\u001b[1;34m(self, *args, **kwargs)\u001b[0m\n\u001b[0;32m     18\u001b[0m             \"\"\",\n\u001b[0;32m     19\u001b[0m             \u001b[0mDeprecationWarning\u001b[0m\u001b[1;33m,\u001b[0m\u001b[1;33m\u001b[0m\u001b[1;33m\u001b[0m\u001b[0m\n\u001b[1;32m---> 20\u001b[1;33m             \u001b[0mstacklevel\u001b[0m\u001b[1;33m=\u001b[0m\u001b[1;36m2\u001b[0m\u001b[1;33m,\u001b[0m\u001b[1;33m\u001b[0m\u001b[1;33m\u001b[0m\u001b[0m\n\u001b[0m\u001b[0;32m     21\u001b[0m         )\n",
      "\u001b[1;31mDeprecationWarning\u001b[0m: \n            Sentinel is not a public part of the traitlets API.\n            It was published by mistake, and may be removed in the future.\n            "
     ]
    }
   ],
   "source": [
    "import numpy as np\n",
    "import bqplot.pyplot as plt\n",
    "from bqplot import (\n",
    "    CATEGORY10,\n",
    "    ColorScale,\n",
    "    DateScale,\n",
    "    LinearScale,\n",
    "    Lines,\n",
    "    Axis,\n",
    "    Figure,\n",
    "    OrdinalScale,\n",
    "    Bars,\n",
    "    Axis,\n",
    ")\n",
    "\n",
    "\n",
    "from lib.ENTSOE import fetch_consumption\n",
    "import pandas as pd\n",
    "from datetime import datetime, timedelta\n",
    "import lib\n",
    "from pkgutil import iter_modules\n",
    "import importlib\n",
    "import os\n",
    "from ipywidgets import (\n",
    "    TwoByTwoLayout,\n",
    "    Button,\n",
    "    Layout,\n",
    "    jslink,\n",
    "    IntText,\n",
    "    IntSlider,\n",
    "    FloatSlider,\n",
    "    Dropdown,\n",
    ")\n",
    "import json\n",
    "import random\n",
    "import requests\n",
    "from ipyleaflet import Map, GeoJSON, WidgetControl, FullScreenControl, ZoomControl\n",
    "import ipywidgets as widgets\n",
    "from ipyflex import FlexLayout"
   ]
  },
  {
   "cell_type": "markdown",
   "id": "dd1be86d",
   "metadata": {},
   "source": [
    "## csv 데이터 불러오기"
   ]
  },
  {
   "cell_type": "code",
   "execution_count": 5,
   "id": "12468379",
   "metadata": {
    "ExecuteTime": {
     "end_time": "2022-07-11T05:23:07.990893Z",
     "start_time": "2022-07-11T05:23:07.759871Z"
    }
   },
   "outputs": [],
   "source": [
    "dong = '101'\n",
    "ho = '402'\n",
    "\n",
    "df_appliance_env = pd.read_csv('new_data/'+dong+\"_\"+ho+\"_appliances(real)_environment(real)_and_houseload(cum).csv\",  index_col='Unnamed: 0', infer_datetime_format=True)\n",
    "df_appliance_env.index = pd.to_datetime(df_appliance_env.index)"
   ]
  },
  {
   "cell_type": "markdown",
   "id": "0ae89418",
   "metadata": {},
   "source": [
    "### 데이터 시각화"
   ]
  },
  {
   "cell_type": "markdown",
   "id": "bf47702b",
   "metadata": {},
   "source": [
    "#### 세탁기 사용패턴"
   ]
  },
  {
   "cell_type": "code",
   "execution_count": 37,
   "id": "779ef5cb",
   "metadata": {
    "ExecuteTime": {
     "end_time": "2022-07-11T09:31:22.002705Z",
     "start_time": "2022-07-11T09:31:21.991703Z"
    }
   },
   "outputs": [],
   "source": [
    "import datetime as dt"
   ]
  },
  {
   "cell_type": "code",
   "execution_count": 38,
   "id": "b5d893b3",
   "metadata": {
    "ExecuteTime": {
     "end_time": "2022-07-11T09:31:24.521878Z",
     "start_time": "2022-07-11T09:31:24.500196Z"
    }
   },
   "outputs": [
    {
     "data": {
      "text/plain": [
       "Int64Index([3, 3, 3, 3, 3, 3, 3, 3, 3, 3,\n",
       "            ...\n",
       "            3, 3, 3, 3, 3, 3, 3, 3, 3, 3],\n",
       "           dtype='int64', length=105120)"
      ]
     },
     "execution_count": 38,
     "metadata": {},
     "output_type": "execute_result"
    }
   ],
   "source": [
    "df_appliance_env.index.weekday"
   ]
  },
  {
   "cell_type": "code",
   "execution_count": 15,
   "id": "9f678b54",
   "metadata": {
    "ExecuteTime": {
     "end_time": "2022-07-11T05:41:55.767641Z",
     "start_time": "2022-07-11T05:41:55.572668Z"
    }
   },
   "outputs": [
    {
     "data": {
      "image/png": "[encoded data removed]",
      "text/plain": [
       "<Figure size 1080x360 with 1 Axes>"
      ]
     },
     "metadata": {
      "needs_background": "light"
     },
     "output_type": "display_data"
    }
   ],
   "source": [
    "\n",
    "start_time = \"2022-04-12 00:00\"\n",
    "end_time = \"2022-04-14 23:59\"\n",
    "\n",
    "from matplotlib.ticker import MultipleLocator\n",
    "\n",
    "# 60 mins \n",
    "fig, ax1 = plt.subplots(1, 1, figsize=(15, 5))\n",
    "\n",
    "# First Plot\n",
    "lns1 = ax1.plot(df_appliance_env['세탁기(발코니2)'].dropna(), \n",
    "                color='b', \n",
    "                marker = 's', \n",
    "                markersize=2, \n",
    "                linestyle = \"dashed\", \n",
    "                label='W')\n",
    "\n",
    "\n",
    "ax1.set_xlim(pd.to_datetime(start_time), pd.to_datetime(end_time))\n",
    "ax1.set_xlabel('date', fontsize=17)\n",
    "ax1.set_ylabel('Power (W)', fontsize=17)\n",
    "ax1.tick_params(axis = 'x', labelsize = 12, rotation=45)\n",
    "ax1.tick_params(axis = 'y', labelsize = 12)\n",
    "ax1.grid(linewidth=0.3)\n",
    "\n",
    "ax1.legend(\"Power\")\n",
    "ax1.set_title(dong + \"-\" + ho, fontsize=16, va='bottom', fontweight='semibold')\n",
    "# ax1.legend(['AC (Wh)'], loc=\"center right\", fontsize=12)\n",
    "\n",
    "# Second Plot\n",
    "# ax2 = ax1.twinx()\n",
    "\n",
    "# lns2 = ax2.plot(df_appliance_env['presence_USM(침실1)'], \n",
    "#                 color='black', \n",
    "#                 marker = '*', \n",
    "#                 markersize=2,\n",
    "#                 alpha=0.5,\n",
    "#                 linestyle = \"dashed\",\n",
    "#                 label='재실유무 (침실1)')\n",
    "\n",
    "# ax2.set_ylim([0, 3])\n",
    "# ax2.set_ylabel('Presence', fontsize=17)\n",
    "# ax2.tick_params(axis = 'y', labelsize = 12)\n",
    "\n",
    "# # added these two lines\n",
    "# lns = lns1+lns2\n",
    "\n",
    "# labs = [l.get_label() for l in lns]\n",
    "# ax1.legend(lns, labs, loc=\"best\", fontsize=12, bbox_to_anchor=(1.219, 0.5))\n",
    "\n",
    "plt.tight_layout()\n",
    "plt.show()"
   ]
  },
  {
   "cell_type": "code",
   "execution_count": 16,
   "id": "0fb1f4c8",
   "metadata": {
    "ExecuteTime": {
     "end_time": "2022-07-11T09:26:42.773545Z",
     "start_time": "2022-07-11T09:26:42.767048Z"
    }
   },
   "outputs": [
    {
     "data": {
      "text/plain": [
       "2021-07-01 00:00:00     52.9\n",
       "2021-07-01 00:05:00     54.7\n",
       "2021-07-01 00:10:00     51.1\n",
       "2021-07-01 00:15:00     57.8\n",
       "2021-07-01 00:20:00     51.6\n",
       "                       ...  \n",
       "2022-06-30 23:35:00    103.9\n",
       "2022-06-30 23:40:00    103.8\n",
       "2022-06-30 23:45:00    104.8\n",
       "2022-06-30 23:50:00    106.1\n",
       "2022-06-30 23:55:00    103.9\n",
       "Name: PC(침실2), Length: 105120, dtype: float64"
      ]
     },
     "execution_count": 16,
     "metadata": {},
     "output_type": "execute_result"
    }
   ],
   "source": [
    "df_appliance_env['PC(침실2)']"
   ]
  }
 ],
 "metadata": {
  "hide_input": false,
  "kernelspec": {
   "display_name": "Python 3.8.8 ('base')",
   "language": "python",
   "name": "python3"
  },
  "language_info": {
   "codemirror_mode": {
    "name": "ipython",
    "version": 3
   },
   "file_extension": ".py",
   "mimetype": "text/x-python",
   "name": "python",
   "nbconvert_exporter": "python",
   "pygments_lexer": "ipython3",
   "version": "3.8.8"
  },
  "toc": {
   "base_numbering": 1,
   "nav_menu": {},
   "number_sections": true,
   "sideBar": true,
   "skip_h1_title": false,
   "title_cell": "Table of Contents",
   "title_sidebar": "Contents",
   "toc_cell": false,
   "toc_position": {
    "height": "calc(100% - 180px)",
    "left": "10px",
    "top": "150px",
    "width": "232.727px"
   },
   "toc_section_display": true,
   "toc_window_display": true
  },
  "vscode": {
   "interpreter": {
    "hash": "263930470851f494f0ed2879c35b57985588df20f9e529b86e97dd5eb9ddc466"
   }
  }
 },
 "nbformat": 4,
 "nbformat_minor": 5
}
